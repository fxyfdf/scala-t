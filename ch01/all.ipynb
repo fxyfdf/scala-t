{
 "cells": [
  {
   "cell_type": "markdown",
   "metadata": {},
   "source": [
    "------"
   ]
  },
  {
   "cell_type": "markdown",
   "metadata": {},
   "source": [
    "### 1_declare"
   ]
  },
  {
   "cell_type": "markdown",
   "metadata": {},
   "source": [
    " val 不能改变"
   ]
  },
  {
   "cell_type": "code",
   "execution_count": 1,
   "metadata": {},
   "outputs": [
    {
     "data": {
      "text/plain": [
       "\u001b[36manswer\u001b[39m: \u001b[32mInt\u001b[39m = \u001b[32m42\u001b[39m\r\n",
       "\u001b[36mres0_1\u001b[39m: \u001b[32mDouble\u001b[39m = \u001b[32m21.0\u001b[39m"
      ]
     },
     "execution_count": 1,
     "metadata": {},
     "output_type": "execute_result"
    }
   ],
   "source": [
    "val answer = 8 * 5 + 2\n",
    "0.5 * answer\n",
    "//answer = 0 "
   ]
  },
  {
   "cell_type": "code",
   "execution_count": 3,
   "metadata": {},
   "outputs": [
    {
     "data": {
      "text/plain": [
       "\u001b[36mgreeting\u001b[39m: \u001b[32mString\u001b[39m = null"
      ]
     },
     "execution_count": 3,
     "metadata": {},
     "output_type": "execute_result"
    }
   ],
   "source": [
    "val greeting: String = null"
   ]
  },
  {
   "cell_type": "markdown",
   "metadata": {},
   "source": [
    " var 能够改变"
   ]
  },
  {
   "cell_type": "code",
   "execution_count": 2,
   "metadata": {},
   "outputs": [
    {
     "data": {
      "text/plain": [
       "\u001b[36mcounter\u001b[39m: \u001b[32mInt\u001b[39m = \u001b[32m3\u001b[39m"
      ]
     },
     "execution_count": 2,
     "metadata": {},
     "output_type": "execute_result"
    }
   ],
   "source": [
    "var counter = 0 \n",
    "counter = 1\n",
    "counter =3"
   ]
  },
  {
   "cell_type": "markdown",
   "metadata": {},
   "source": [
    "多指声明"
   ]
  },
  {
   "cell_type": "code",
   "execution_count": 5,
   "metadata": {},
   "outputs": [
    {
     "data": {
      "text/plain": [
       "\u001b[36mi\u001b[39m: \u001b[32mInt\u001b[39m = \u001b[32m0\u001b[39m\r\n",
       "\u001b[36mj\u001b[39m: \u001b[32mInt\u001b[39m = \u001b[32m0\u001b[39m\r\n",
       "\u001b[36mgreeting2\u001b[39m: \u001b[32mString\u001b[39m = null\r\n",
       "\u001b[36mmessage\u001b[39m: \u001b[32mString\u001b[39m = null"
      ]
     },
     "execution_count": 5,
     "metadata": {},
     "output_type": "execute_result"
    }
   ],
   "source": [
    "var i,j = 0\n",
    "var greeting2,message: String = null"
   ]
  },
  {
   "cell_type": "markdown",
   "metadata": {},
   "source": [
    "#### 2_type"
   ]
  },
  {
   "cell_type": "markdown",
   "metadata": {},
   "source": [
    "隐式转换RichInt"
   ]
  },
  {
   "cell_type": "code",
   "execution_count": 4,
   "metadata": {},
   "outputs": [
    {
     "data": {
      "text/plain": [
       "\u001b[36mres3_0\u001b[39m: \u001b[32mString\u001b[39m = \u001b[32m\"1\"\u001b[39m\r\n",
       "\u001b[36mres3_1\u001b[39m: \u001b[32mRange\u001b[39m.\u001b[32mInclusive\u001b[39m = \u001b[33mRange\u001b[39m(\u001b[32m1\u001b[39m, \u001b[32m2\u001b[39m, \u001b[32m3\u001b[39m, \u001b[32m4\u001b[39m, \u001b[32m5\u001b[39m, \u001b[32m6\u001b[39m, \u001b[32m7\u001b[39m, \u001b[32m8\u001b[39m, \u001b[32m9\u001b[39m, \u001b[32m10\u001b[39m)\r\n",
       "\u001b[36mres3_2\u001b[39m: \u001b[32mRange\u001b[39m.\u001b[32mInclusive\u001b[39m = \u001b[33mRange\u001b[39m(\u001b[32m2\u001b[39m, \u001b[32m3\u001b[39m, \u001b[32m4\u001b[39m, \u001b[32m5\u001b[39m, \u001b[32m6\u001b[39m, \u001b[32m7\u001b[39m, \u001b[32m8\u001b[39m, \u001b[32m9\u001b[39m, \u001b[32m10\u001b[39m, \u001b[32m11\u001b[39m, \u001b[32m12\u001b[39m, \u001b[32m13\u001b[39m, \u001b[32m14\u001b[39m, \u001b[32m15\u001b[39m, \u001b[32m16\u001b[39m, \u001b[32m17\u001b[39m, \u001b[32m18\u001b[39m, \u001b[32m19\u001b[39m, \u001b[32m20\u001b[39m)"
      ]
     },
     "execution_count": 4,
     "metadata": {},
     "output_type": "execute_result"
    }
   ],
   "source": [
    "1.toString\n",
    "1.to(10)\n",
    "2.to(20)"
   ]
  },
  {
   "cell_type": "markdown",
   "metadata": {},
   "source": [
    "String 隐式转换成 StringOps"
   ]
  },
  {
   "cell_type": "code",
   "execution_count": 5,
   "metadata": {},
   "outputs": [
    {
     "data": {
      "text/plain": [
       "\u001b[36mres4\u001b[39m: \u001b[32mString\u001b[39m = \u001b[32m\"lo\"\u001b[39m"
      ]
     },
     "execution_count": 5,
     "metadata": {},
     "output_type": "execute_result"
    }
   ],
   "source": [
    "\"Hello\".intersect(\"World\")"
   ]
  },
  {
   "cell_type": "markdown",
   "metadata": {},
   "source": [
    "类型之间的转换需要通过方法进行，没有强制转化"
   ]
  },
  {
   "cell_type": "code",
   "execution_count": 6,
   "metadata": {},
   "outputs": [
    {
     "data": {
      "text/plain": [
       "\u001b[36mres5\u001b[39m: \u001b[32mInt\u001b[39m = \u001b[32m99\u001b[39m"
      ]
     },
     "execution_count": 6,
     "metadata": {},
     "output_type": "execute_result"
    }
   ],
   "source": [
    "99.02.toInt"
   ]
  },
  {
   "cell_type": "code",
   "execution_count": 4,
   "metadata": {},
   "outputs": [
    {
     "data": {
      "text/plain": [
       "\u001b[36mi\u001b[0m: Null = null"
      ]
     },
     "metadata": {},
     "output_type": "display_data"
    }
   ],
   "source": [
    "val i = null\n",
    "//val J:Int = null"
   ]
  },
  {
   "cell_type": "markdown",
   "metadata": {},
   "source": [
    "##### 3_operator"
   ]
  },
  {
   "cell_type": "markdown",
   "metadata": {},
   "source": [
    "Scala 风格"
   ]
  },
  {
   "cell_type": "code",
   "execution_count": 5,
   "metadata": {},
   "outputs": [
    {
     "data": {
      "text/plain": [
       "\u001b[36mres3\u001b[0m: String = \u001b[32m\"lo\"\u001b[0m"
      ]
     },
     "metadata": {},
     "output_type": "display_data"
    }
   ],
   "source": [
    "//匹配相同字符\n",
    "\"Hello\" intersect \"Wotld\""
   ]
  },
  {
   "cell_type": "code",
   "execution_count": 10,
   "metadata": {},
   "outputs": [
    {
     "data": {
      "text/plain": [
       "\u001b[36mcounter\u001b[0m: Int = \u001b[32m1\u001b[0m\n",
       "\u001b[36mx\u001b[0m: scala.BigInt = 3\n",
       "\u001b[36mres8_3\u001b[0m: scala.math.BigInt = 27"
      ]
     },
     "metadata": {},
     "output_type": "display_data"
    }
   ],
   "source": [
    "//没有 ++ -- 操作符\n",
    "var counter = 0 \n",
    "counter += 1\n",
    "\n",
    "//提供BigInt 和BigDecimal 对象来处理大数据\n",
    "val x: BigInt = 3\n",
    "x * x * x "
   ]
  },
  {
   "cell_type": "markdown",
   "metadata": {},
   "source": [
    "4_call"
   ]
  },
  {
   "cell_type": "code",
   "execution_count": 18,
   "metadata": {},
   "outputs": [
    {
     "data": {
      "text/plain": [
       "\u001b[32mimport \u001b[36mscala.math._\u001b[0m\n",
       "\u001b[36mres11_1\u001b[0m: Double = \u001b[32m1.4142135623730951\u001b[0m\n",
       "\u001b[36mres11_2\u001b[0m: Double = \u001b[32m16.0\u001b[0m"
      ]
     },
     "metadata": {},
     "output_type": "display_data"
    }
   ],
   "source": [
    "import scala.math._\n",
    "//函数调用\n",
    "sqrt(2)\n",
    "pow(2,4)\n",
    "//main(3, Pi)"
   ]
  },
  {
   "cell_type": "code",
   "execution_count": 21,
   "metadata": {},
   "outputs": [
    {
     "data": {
      "text/plain": [
       "\u001b[36mres13\u001b[0m: String = \u001b[32m\"Helo\"\u001b[0m"
      ]
     },
     "metadata": {},
     "output_type": "display_data"
    }
   ],
   "source": [
    "//方法调用\n",
    "\"Hello\".distinct  //去重"
   ]
  },
  {
   "cell_type": "code",
   "execution_count": 22,
   "metadata": {},
   "outputs": [
    {
     "data": {
      "text/plain": [
       "\u001b[36mres14\u001b[0m: scala.math.BigInt = 933798275127221102690511021143"
      ]
     },
     "metadata": {},
     "output_type": "display_data"
    }
   ],
   "source": [
    "//静态方法调用\n",
    "BigInt.probablePrime(100,scala.util.Random)"
   ]
  },
  {
   "cell_type": "markdown",
   "metadata": {},
   "source": [
    "##### 5_applly"
   ]
  },
  {
   "cell_type": "code",
   "execution_count": 23,
   "metadata": {},
   "outputs": [
    {
     "data": {
      "text/plain": [
       "\u001b[36mres15_0\u001b[0m: Char = \u001b[32m'o'\u001b[0m\n",
       "\u001b[36maa\u001b[0m: java.lang.String = \u001b[32m\"hello\"\u001b[0m\n",
       "\u001b[36mres15_2\u001b[0m: Char = \u001b[32m'o'\u001b[0m"
      ]
     },
     "metadata": {},
     "output_type": "display_data"
    }
   ],
   "source": [
    "// 获取字符\n",
    "\"Hello\"(4)\n",
    "//apply获取字符\n",
    "var aa = \"hello\"\n",
    "aa.apply(4)\n"
   ]
  },
  {
   "cell_type": "code",
   "execution_count": 32,
   "metadata": {},
   "outputs": [
    {
     "data": {
      "text/plain": [
       "\u001b[36marr\u001b[0m: scala.Array[Int] = \u001b[33mArray\u001b[0m(\u001b[32m1\u001b[0m, \u001b[32m2\u001b[0m, \u001b[32m3\u001b[0m)\n",
       "\u001b[36mres21_1\u001b[0m: scala.Array[Int] = \u001b[33mArray\u001b[0m(\u001b[32m1\u001b[0m, \u001b[32m2\u001b[0m, \u001b[32m3\u001b[0m)\n",
       "\u001b[36mres21_2\u001b[0m: scala.math.BigInt = 123\n",
       "\u001b[36mres21_3\u001b[0m: scala.math.BigInt = 122\n",
       "\u001b[36mres21_4\u001b[0m: scala.math.BigInt = 246"
      ]
     },
     "metadata": {},
     "output_type": "display_data"
    }
   ],
   "source": [
    "//声明数组\n",
    "var arr = Array(1,2,3)\n",
    "//applly 声明数组\n",
    "Array.apply(1,2,3)\n",
    "BigInt(\"123\")\n",
    "BigInt.apply(\"122\")\n",
    "BigInt(\"123\") * BigInt.apply(\"2\")"
   ]
  },
  {
   "cell_type": "code",
   "execution_count": 48,
   "metadata": {},
   "outputs": [
    {
     "data": {
      "text/plain": [
       "\u001b[36marr\u001b[0m: scala.Array[Int] = \u001b[33mArray\u001b[0m(\u001b[32m1\u001b[0m, \u001b[32m4\u001b[0m, \u001b[32m100\u001b[0m)\n",
       "\u001b[36mres37_1\u001b[0m: scala.Array[Int] = \u001b[33mArray\u001b[0m(\u001b[32m1\u001b[0m, \u001b[32m4\u001b[0m, \u001b[32m100\u001b[0m)\n",
       "\u001b[36mres37_3\u001b[0m: scala.Array[Int] = \u001b[33mArray\u001b[0m(\u001b[32m1\u001b[0m, \u001b[32m4\u001b[0m, \u001b[32m100\u001b[0m)\n",
       "\u001b[36mres37_5\u001b[0m: scala.Array[Int] = \u001b[33mArray\u001b[0m(\u001b[32m1\u001b[0m, \u001b[32m4\u001b[0m, \u001b[32m100\u001b[0m)"
      ]
     },
     "metadata": {},
     "output_type": "display_data"
    }
   ],
   "source": [
    "var arr = Array.apply(1,2,3)\n",
    "//更新值\n",
    "arr\n",
    "arr(2) = 100\n",
    "arr\n",
    "//update 方法更新值,坐标1 更新为4\n",
    "arr.update(1,4)\n",
    "arr"
   ]
  },
  {
   "cell_type": "markdown",
   "metadata": {},
   "source": [
    "##### 6_option"
   ]
  },
  {
   "cell_type": "code",
   "execution_count": 58,
   "metadata": {},
   "outputs": [
    {
     "name": "stdout",
     "output_type": "stream",
     "text": [
      "No score\n",
      "No score\n",
      "No score\n",
      "No score\n"
     ]
    },
    {
     "data": {
      "text/plain": [
       "\u001b[36mscores\u001b[0m: scala.collection.immutable.Map[java.lang.String,Int] = \u001b[33mMap\u001b[0m(\u001b[32m\"Alice1\"\u001b[0m -> \u001b[32m11111\u001b[0m, \u001b[32m\"Fred\"\u001b[0m -> \u001b[32m42\u001b[0m)\n",
       "\u001b[36malicesScore\u001b[0m: scala.Option[Int] = None"
      ]
     },
     "metadata": {},
     "output_type": "display_data"
    }
   ],
   "source": [
    "val scores = Map(\"Alice1\" -> 11111, \"Fred\" -> 42)\n",
    "scores.get(\"Alice\") match {\n",
    "    case Some(score) => println(score)\n",
    "    case None => println(\"No score\")\n",
    "}\n",
    "\n",
    "val alicesScore = scores.get(\"Alice\")\n",
    "if (alicesScore.isEmpty) {println (\"No score\")\n",
    "    }else println(alicesScore.get)\n",
    "\n",
    "println(alicesScore.getOrElse(\"No score\"))\n",
    "println(scores.getOrElse(\"Alice\",\"No score\"))\n",
    "\n",
    "\n"
   ]
  },
  {
   "cell_type": "code",
   "execution_count": 54,
   "metadata": {},
   "outputs": [
    {
     "name": "stdout",
     "output_type": "stream",
     "text": [
      "1729\n",
      "1729\n"
     ]
    },
    {
     "data": {
      "text/plain": []
     },
     "metadata": {},
     "output_type": "display_data"
    }
   ],
   "source": [
    "for (score <- scores.get(\"Alice\")) println(score)\n",
    "\n",
    "scores.get(\"Alice\").foreach(println _)"
   ]
  },
  {
   "cell_type": "code",
   "execution_count": null,
   "metadata": {},
   "outputs": [],
   "source": [
    "\n"
   ]
  }
 ],
 "metadata": {
  "kernelspec": {
   "display_name": "Scala 2.10",
   "language": "scala210",
   "name": "scala210"
  },
  "language_info": {
   "codemirror_mode": "text/x-scala",
   "file_extension": "scala",
   "mimetype": "text/x-scala",
   "name": "scala210",
   "pygments_lexer": "scala",
   "version": "2.10.5"
  }
 },
 "nbformat": 4,
 "nbformat_minor": 2
}
