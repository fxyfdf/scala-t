{
 "cells": [
  {
   "cell_type": "code",
   "execution_count": 10,
   "metadata": {},
   "outputs": [
    {
     "name": "stderr",
     "output_type": "stream",
     "text": [
      "IO error while decoding cmd10.sc with UTF-8\n",
      "Please try specifying another one using the -encoding option"
     ]
    },
    {
     "ename": "",
     "evalue": "",
     "output_type": "error",
     "traceback": [
      "Compilation Failed"
     ]
    }
   ],
   "source": [
    "// These are meant to be typed into the REPL. You can also run\n",
    "// scala -Xnojline < repl-session.scala to run them all at once.\n",
    "\n",
    "val prices = List(5.0, 20.0, 9.95)\n",
    "val quantities = List(10, 2, 1)\n",
    "\n",
    "prices zip quantities\n",
    "\n",
    "// 拉链后执行map操作\n",
    "(prices zip quantities) map { p => p._1 * p._2 }\n",
    "\n",
    "((prices zip quantities) map { p => p._1 * p._2 }) sum\n",
    "\n",
    "List(5.0, 20.0, 9.95) zip List(10, 2)\n",
    "\n",
    "// 如果一个元素数量比较少，则用默认值代替\n",
    "List(5.0, 20.0, 9.95).zipAll(List(10, 2), 0.0, 1)\n",
    "\n",
    "List(5.0).zipAll(List(10, 2), 0.0, 1)\n",
    "\n",
    "// 和索引值序列进行拉链操作\n",
    "\"Scala\".zipWithIndex\n",
    "\n",
    "\"Scala\".zipWithIndex.max\n",
    "\n",
    "\"Scala\".zipWithIndex.max._2\n",
    "\n",
    "\n",
    "//unzip函数可以将一个元组的列表转变成一个列表的元组\n",
    "\"Scala\".zipWithIndex.unzip\n",
    "\n",
    "\"Scala\".zipWithIndex.unzip._1\n",
    "\n",
    "\"Scala\".zipWithIndex.unzip._2"
   ]
  },
  {
   "cell_type": "code",
   "execution_count": 10,
   "metadata": {},
   "outputs": [],
   "source": [
    "//汉"
   ]
  },
  {
   "cell_type": "code",
   "execution_count": null,
   "metadata": {},
   "outputs": [],
   "source": []
  },
  {
   "cell_type": "markdown",
   "metadata": {},
   "source": [
    "$$z = \\left(\\frac{dx}{dy}\\right)^{1/3}$$"
   ]
  },
  {
   "cell_type": "code",
   "execution_count": 11,
   "metadata": {},
   "outputs": [
    {
     "name": "stdout",
     "output_type": "stream",
     "text": [
      "1\n",
      "-1\n",
      "0\n"
     ]
    },
    {
     "data": {
      "text/plain": [
       "\u001b[36msign\u001b[39m: \u001b[32mInt\u001b[39m = \u001b[32m0\u001b[39m"
      ]
     },
     "execution_count": 11,
     "metadata": {},
     "output_type": "execute_result"
    }
   ],
   "source": [
    "var sign = 0\n",
    "for (ch <- \"+-!\") {\n",
    "\n",
    "  ch match {\n",
    "    case '+' => sign = 1\n",
    "    case '-' => sign = -1\n",
    "    case _ => sign = 0\n",
    "  }\n",
    "\n",
    "  println(sign)\n",
    "}"
   ]
  },
  {
   "cell_type": "markdown",
   "metadata": {},
   "source": [
    "ch"
   ]
  },
  {
   "cell_type": "code",
   "execution_count": null,
   "metadata": {},
   "outputs": [],
   "source": [
    "val str = \" +-3!\"\n",
    "//返回str的一组索引Range\n",
    "for"
   ]
  }
 ],
 "metadata": {
  "kernelspec": {
   "display_name": "Scala 2.11.11",
   "language": "scala",
   "name": "scala"
  },
  "language_info": {
   "codemirror_mode": "text/x-scala",
   "file_extension": ".scala",
   "mimetype": "text/x-scala",
   "name": "scala211",
   "nbconvert_exporter": "script",
   "pygments_lexer": "scala",
   "version": "2.11.11"
  }
 },
 "nbformat": 4,
 "nbformat_minor": 2
}
