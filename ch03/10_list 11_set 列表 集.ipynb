{
 "cells": [
  {
   "cell_type": "markdown",
   "metadata": {},
   "source": [
    "# 10_list  11_set  列表 集"
   ]
  },
  {
   "cell_type": "code",
   "execution_count": 11,
   "metadata": {},
   "outputs": [
    {
     "data": {
      "text/plain": [
       "\u001b[36mdigits\u001b[0m: List[Int] = \u001b[33mList\u001b[0m(\u001b[32m4\u001b[0m, \u001b[32m2\u001b[0m)\n",
       "\u001b[36mres7_1\u001b[0m: List[Int] = \u001b[33mList\u001b[0m(\u001b[32m9\u001b[0m, \u001b[32m4\u001b[0m, \u001b[32m2\u001b[0m)\n",
       "\u001b[36mres7_2\u001b[0m: List[Int] = \u001b[33mList\u001b[0m(\u001b[32m9\u001b[0m, \u001b[32m4\u001b[0m, \u001b[32m2\u001b[0m)\n",
       "\u001b[36mres7_3\u001b[0m: List[Int] = \u001b[33mList\u001b[0m(\u001b[32m9\u001b[0m, \u001b[32m4\u001b[0m, \u001b[32m2\u001b[0m)"
      ]
     },
     "metadata": {},
     "output_type": "display_data"
    }
   ],
   "source": [
    "val digits = List(4, 2)\n",
    "\n",
    "// 右结合操作符\n",
    "9 :: List(4, 2)\n",
    "\n",
    "// Nil表示空列表\n",
    "9 :: 4 :: 2 :: Nil\n",
    "\n",
    "9 :: (4 :: (2 :: Nil))"
   ]
  },
  {
   "cell_type": "code",
   "execution_count": 12,
   "metadata": {},
   "outputs": [
    {
     "data": {
      "text/plain": [
       "defined \u001b[32mfunction \u001b[36msum\u001b[0m\n",
       "\u001b[36mres8_1\u001b[0m: Int = \u001b[32m15\u001b[0m"
      ]
     },
     "metadata": {},
     "output_type": "display_data"
    }
   ],
   "source": [
    "def sum(lst: List[Int]): Int = if (lst == Nil) 0 else lst.head + sum(lst.tail)\n",
    "\n",
    "sum(List(9, 4, 2))"
   ]
  },
  {
   "cell_type": "code",
   "execution_count": 13,
   "metadata": {},
   "outputs": [
    {
     "data": {
      "text/plain": [
       "defined \u001b[32mfunction \u001b[36msum\u001b[0m\n",
       "\u001b[36mres9_1\u001b[0m: Int = \u001b[32m15\u001b[0m\n",
       "\u001b[36mres9_2\u001b[0m: Int = \u001b[32m15\u001b[0m"
      ]
     },
     "metadata": {},
     "output_type": "display_data"
    }
   ],
   "source": [
    "\n",
    "\n",
    "def sum(lst: List[Int]): Int = lst match {\n",
    "  case Nil => 0\n",
    "  case h :: t => h + sum(t) \n",
    "    \n",
    "    // h is lst.head, t is lst.tail\n",
    "}\n",
    "\n",
    "sum(List(9, 4, 2))\n",
    "\n",
    "List(9, 4, 2).sum"
   ]
  },
  {
   "cell_type": "markdown",
   "metadata": {},
   "source": [
    "11_set  IO"
   ]
  },
  {
   "cell_type": "code",
   "execution_count": 16,
   "metadata": {},
   "outputs": [
    {
     "name": "stdout",
     "output_type": "stream",
     "text": [
      "516234"
     ]
    },
    {
     "data": {
      "text/plain": [
       "\u001b[36mnumberSet\u001b[0m: scala.collection.immutable.Set[Int] = \u001b[33mSet\u001b[0m(\u001b[32m1\u001b[0m, \u001b[32m2\u001b[0m, \u001b[32m3\u001b[0m, \u001b[32m5\u001b[0m)\n",
       "\u001b[36mres12_2\u001b[0m: scala.collection.immutable.Set[Int] = \u001b[33mSet\u001b[0m(\u001b[32m1\u001b[0m, \u001b[32m2\u001b[0m, \u001b[32m3\u001b[0m, \u001b[32m5\u001b[0m)\n",
       "\u001b[36mres12_3\u001b[0m: scala.collection.immutable.Set[Int] = \u001b[33mSet\u001b[0m(\u001b[32m1\u001b[0m, \u001b[32m3\u001b[0m)\n",
       "\u001b[36mres12_4\u001b[0m: scala.collection.immutable.Set[Int] = \u001b[33mSet\u001b[0m(\u001b[32m1\u001b[0m, \u001b[32m2\u001b[0m, \u001b[32m3\u001b[0m)"
      ]
     },
     "metadata": {},
     "output_type": "display_data"
    }
   ],
   "source": [
    "\n",
    "var numberSet = Set(1, 2, 3)\n",
    "numberSet += 5 // Sets numberSet to the immutable set numberSet + 5\n",
    "numberSet\n",
    "\n",
    "Set(1, 2, 3) - 2\n",
    "\n",
    "Set(1, 2, 3) +1\n",
    "\n",
    "// 无序访问\n",
    "for(x <- Set(1, 2, 3, 4 ,5, 6)) print(x)\n"
   ]
  },
  {
   "cell_type": "code",
   "execution_count": null,
   "metadata": {},
   "outputs": [],
   "source": []
  }
 ],
 "metadata": {
  "kernelspec": {
   "display_name": "Scala 2.10",
   "language": "scala210",
   "name": "scala210"
  },
  "language_info": {
   "codemirror_mode": "text/x-scala",
   "file_extension": "scala",
   "mimetype": "text/x-scala",
   "name": "scala210",
   "pygments_lexer": "scala",
   "version": "2.10.5"
  }
 },
 "nbformat": 4,
 "nbformat_minor": 2
}
