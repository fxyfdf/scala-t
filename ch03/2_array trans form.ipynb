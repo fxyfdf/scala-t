{
 "cells": [
  {
   "cell_type": "code",
   "execution_count": 2,
   "metadata": {},
   "outputs": [
    {
     "data": {
      "text/plain": [
       "\u001b[36ma\u001b[0m: scala.Array[Int] = \u001b[33mArray\u001b[0m(\u001b[32m2\u001b[0m, \u001b[32m3\u001b[0m, \u001b[32m5\u001b[0m, \u001b[32m7\u001b[0m, \u001b[32m11\u001b[0m)\n",
       "\u001b[36mresult\u001b[0m: scala.Array[Int] = \u001b[33mArray\u001b[0m(\u001b[32m4\u001b[0m, \u001b[32m6\u001b[0m, \u001b[32m10\u001b[0m, \u001b[32m14\u001b[0m, \u001b[32m22\u001b[0m)\n",
       "\u001b[36mres0_2\u001b[0m: scala.Array[Int] = \u001b[33mArray\u001b[0m(\u001b[32m20000000\u001b[0m)"
      ]
     },
     "metadata": {},
     "output_type": "display_data"
    }
   ],
   "source": [
    "val a = Array(2 , 3, 5, 7, 11)\n",
    "//产生新的数组\n",
    "var result = for (elem <- a ) yield 2 * elem\n",
    "a.filter (_ % 2 == 0).map(10000000 * _ )"
   ]
  },
  {
   "cell_type": "markdown",
   "metadata": {},
   "source": [
    "常用方法"
   ]
  },
  {
   "cell_type": "code",
   "execution_count": 3,
   "metadata": {},
   "outputs": [
    {
     "data": {
      "text/plain": [
       "\u001b[32mimport \u001b[36mscala.collection.mutable.ArrayBuffer\u001b[0m\n",
       "\u001b[36mres1_1\u001b[0m: Int = \u001b[32m19\u001b[0m\n",
       "\u001b[36mres1_2\u001b[0m: java.lang.String = \u001b[32m\"littleaa\"\u001b[0m"
      ]
     },
     "metadata": {},
     "output_type": "display_data"
    }
   ],
   "source": [
    "import scala.collection.mutable.ArrayBuffer\n",
    "//求和\n",
    "Array(1,7,2,9).sum\n",
    "//最大排序\n",
    "ArrayBuffer(\"Mary\",\"had\",\"littleaa\",\"little\",\"lamb\").max\n"
   ]
  },
  {
   "cell_type": "code",
   "execution_count": 21,
   "metadata": {},
   "outputs": [
    {
     "data": {
      "text/plain": [
       "\u001b[36mb\u001b[0m: scala.collection.mutable.ArrayBuffer[Int] = \u001b[33mArrayBuffer\u001b[0m(\u001b[32m1\u001b[0m, \u001b[32m7\u001b[0m, \u001b[32m2\u001b[0m, \u001b[32m9\u001b[0m)\n",
       "\u001b[36mbSorted\u001b[0m: scala.collection.mutable.ArrayBuffer[Int] = \u001b[33mArrayBuffer\u001b[0m(\u001b[32m1\u001b[0m, \u001b[32m2\u001b[0m, \u001b[32m7\u001b[0m, \u001b[32m9\u001b[0m)\n",
       "\u001b[36ma1\u001b[0m: scala.Array[Int] = \u001b[33mArray\u001b[0m(\u001b[32m1\u001b[0m, \u001b[32m2\u001b[0m, \u001b[32m7\u001b[0m, \u001b[32m9\u001b[0m)\n",
       "\u001b[36mres17_4\u001b[0m: scala.Array[Int] = \u001b[33mArray\u001b[0m(\u001b[32m1\u001b[0m, \u001b[32m2\u001b[0m, \u001b[32m7\u001b[0m, \u001b[32m9\u001b[0m)\n",
       "\u001b[36mres17_5\u001b[0m: String = \u001b[32m\"1 and 2 and 7 and 9\"\u001b[0m\n",
       "\u001b[36mres17_6\u001b[0m: String = \u001b[32m\"<1,2,7,9>\"\u001b[0m\n",
       "\u001b[36mres17_7\u001b[0m: java.lang.String = \u001b[32m\"[I@417721b3\"\u001b[0m\n",
       "\u001b[36mres17_8\u001b[0m: String = \u001b[32m\"ArrayBuffer(1, 7, 2, 9)\"\u001b[0m"
      ]
     },
     "metadata": {},
     "output_type": "display_data"
    }
   ],
   "source": [
    "val b = ArrayBuffer(1, 7, 2, 9)\n",
    "//排序\n",
    "val bSorted = b.sorted\n",
    "\n",
    "val a1 = Array(1, 7, 2, 9)\n",
    "scala.util.Sorting.quickSort(a1)\n",
    "a1\n",
    "//形成string\n",
    "a1.mkString(\" and \")\n",
    "a1.mkString(\"<\",\",\",\">\")\n",
    "a1.toString\n",
    "b.toString\n"
   ]
  },
  {
   "cell_type": "code",
   "execution_count": 25,
   "metadata": {},
   "outputs": [
    {
     "name": "stdout",
     "output_type": "stream",
     "text": [
      "[Ljava.lang.Object;@376ba2d5\n",
      "[Ljava.lang.Object;@376ba2d5\n"
     ]
    },
    {
     "data": {
      "text/plain": [
       "\u001b[32mimport \u001b[36mscala.collection.mutable.ArrayBuffer\u001b[0m\n",
       "\u001b[36ma2\u001b[0m: scala.Array[Int] = \u001b[33mArray\u001b[0m(\u001b[32m1\u001b[0m, \u001b[32m7\u001b[0m, \u001b[32m2\u001b[0m, \u001b[32m9\u001b[0m, \u001b[32m1\u001b[0m)\n",
       "\u001b[36mb2\u001b[0m: scala.collection.mutable.ArrayBuffer[Int] = \u001b[33mArrayBuffer\u001b[0m(\u001b[32m1\u001b[0m, \u001b[32m7\u001b[0m, \u001b[32m2\u001b[0m, \u001b[32m9\u001b[0m, \u001b[32m1\u001b[0m, \u001b[32m1\u001b[0m, \u001b[32m1111\u001b[0m)\n",
       "\u001b[36mres21_4\u001b[0m: scala.Array[Int] = \u001b[33mArray\u001b[0m(\u001b[32m1\u001b[0m, \u001b[32m7\u001b[0m, \u001b[32m2\u001b[0m, \u001b[32m9\u001b[0m, \u001b[32m1\u001b[0m)\n",
       "\u001b[36mxs\u001b[0m: scala.Array[Any] = \u001b[33mArray\u001b[0m(1, 7, 2, 9)"
      ]
     },
     "metadata": {},
     "output_type": "display_data"
    }
   ],
   "source": [
    "import scala.collection.mutable.ArrayBuffer\n",
    "\n",
    "//更多方法\n",
    "val a2 = Array(1, -2, 3, -4, 5)\n",
    "val b2 = ArrayBuffer(1, 7, 2, 9,1,1)\n",
    "//统计大于0的个数\n",
    "/*\n",
    "a2.count(_ > 0)\n",
    "b2.append(1, 7, 2, 8)\n",
    "b2.appendAll(a2)\n",
    "println(b2)\n",
    "*/\n",
    "//将b2 中的数据copy 到a2, a2 的空间为5\n",
    "b2.copyToArray(a2)\n",
    "a2\n",
    "b2.append(1111)\n",
    "\n",
    "val xs = Array(1, \"Fred\", 2, 9)\n",
    "println(xs)\n",
    "b2.copyToArray(xs)\n",
    "println(xs)\n",
    "\n"
   ]
  },
  {
   "cell_type": "code",
   "execution_count": 31,
   "metadata": {
    "collapsed": true
   },
   "outputs": [
    {
     "name": "stdout",
     "output_type": "stream",
     "text": [
      "1\n",
      "1\n"
     ]
    },
    {
     "data": {
      "text/plain": [
       "\u001b[32mimport \u001b[36mscala.collection.mutable.ArrayBuffer\u001b[0m\n",
       "\u001b[36mxs\u001b[0m: scala.Array[Any] = \u001b[33mArray\u001b[0m(1, 7, 2, 9)\n",
       "\u001b[36mb2\u001b[0m: scala.collection.mutable.ArrayBuffer[Int] = \u001b[33mArrayBuffer\u001b[0m(\u001b[32m1\u001b[0m, \u001b[32m7\u001b[0m, \u001b[32m2\u001b[0m, \u001b[32m9\u001b[0m, \u001b[32m1\u001b[0m, \u001b[32m1\u001b[0m)\n",
       "\u001b[36mres27_6\u001b[0m: scala.collection.mutable.ArrayBuffer[Int] = \u001b[33mArrayBuffer\u001b[0m(\u001b[32m1\u001b[0m, \u001b[32m7\u001b[0m, \u001b[32m2\u001b[0m, \u001b[32m9\u001b[0m, \u001b[32m1\u001b[0m, \u001b[32m1\u001b[0m)\n",
       "\u001b[36mres27_7\u001b[0m: scala.collection.mutable.ArrayBuffer[Int] = \u001b[33mArrayBuffer\u001b[0m(\n",
       "  \u001b[32m1\u001b[0m,\n",
       "  \u001b[32m7\u001b[0m,\n",
       "  \u001b[32m2\u001b[0m,\n",
       "  \u001b[32m9\u001b[0m,\n",
       "  \u001b[32m1\u001b[0m,\n",
       "  \u001b[32m1\u001b[0m,\n",
       "  \u001b[32m-1\u001b[0m,\n",
       "  \u001b[32m-1\u001b[0m,\n",
       "  \u001b[32m-1\u001b[0m,\n",
       "  \u001b[32m-1\u001b[0m,\n",
       "  \u001b[32m-1\u001b[0m,\n",
       "  \u001b[32m-1\u001b[0m,\n",
       "  \u001b[32m-1\u001b[0m,\n",
       "  \u001b[32m-1\u001b[0m,\n",
       "\u001b[33m...\u001b[0m"
      ]
     },
     "metadata": {},
     "output_type": "display_data"
    }
   ],
   "source": [
    "import scala.collection.mutable.ArrayBuffer\n",
    "val xs = Array(1, \"Fred\", 2, 9)\n",
    "val b2 = ArrayBuffer(1, 7, 2, 9,1,1)\n",
    "println(xs(0))\n",
    "b2.copyToArray(xs)\n",
    "println(xs(0))\n",
    "\n",
    "b2\n",
    "//加到 20 项，用 -1 填充\n",
    "b2.padTo(20,-1)\n",
    "(1 to 10).padTo(20,-1)"
   ]
  },
  {
   "cell_type": "code",
   "execution_count": null,
   "metadata": {},
   "outputs": [],
   "source": []
  }
 ],
 "metadata": {
  "kernelspec": {
   "display_name": "Scala 2.10",
   "language": "scala210",
   "name": "scala210"
  },
  "language_info": {
   "codemirror_mode": "text/x-scala",
   "file_extension": "scala",
   "mimetype": "text/x-scala",
   "name": "scala210",
   "pygments_lexer": "scala",
   "version": "2.10.5"
  }
 },
 "nbformat": 4,
 "nbformat_minor": 2
}
