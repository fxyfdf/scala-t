{
 "cells": [
  {
   "cell_type": "code",
   "execution_count": null,
   "metadata": {},
   "outputs": [],
   "source": [
    "Array\n",
    "\n",
    "在Scala中，Array代表的含义与Java中类似，也是长度不可改变的数组。此外，由于Scala与Java都是运行在JVM中，双方可以互相调用，因此Scala数组的底层实际上是Java数组。例如字符串数组在底层就是Java的String[]，整数数组在底层就是Java的Int[]。\n",
    "\n",
    "// 数组初始化后，长度就固定下来了，而且元素全部根据其类型初始化\n",
    "val a = new Array[Int](10)\n",
    "a(0)\n",
    "a(0) = 1\n",
    "val a = new Array[String](10)\n",
    "\n",
    "// 可以直接使用Array()创建数组，元素类型自动推断\n",
    "val a = Array(\"hello\", \"world\")\n",
    "a(0) = \"hi\"\n",
    "val a = Array(\"leo\", 30)\n",
    "复制代码\n",
    "ArrayBuffer\n",
    "\n",
    "在Scala中，如果需要类似于Java中的ArrayList这种长度可变的集合类，则可以使用ArrayBuffer。\n",
    "\n",
    "复制代码\n",
    " 1 // 如果不想每次都使用全限定名，则可以预先导入ArrayBuffer类\n",
    " 2 import scala.collection.mutable.ArrayBuffer\n",
    " 3 // 使用ArrayBuffer()的方式可以创建一个空的ArrayBuffer\n",
    " 4 val b = ArrayBuffer[Int]()\n",
    " 5 // 使用+=操作符，可以添加一个元素，或者多个元素\n",
    " 6 // 这个语法必须要谨记在心！因为spark源码里大量使用了这种集合操作语法！\n",
    " 7 b += 1\n",
    " 8 b += (2, 3, 4, 5)\n",
    " 9 // 使用++=操作符，可以添加其他集合中的所有元素\n",
    "10 b ++= Array(6, 7, 8, 9, 10)\n",
    "11 // 使用trimEnd()函数，可以从尾部截断指定个数的元素\n",
    "12 b.trimEnd(5)\n",
    "复制代码\n",
    "ArrayBuffer\n",
    "\n",
    "复制代码\n",
    "// 使用insert()函数可以在指定位置插入元素\n",
    "// 但是这种操作效率很低，因为需要移动指定位置后的所有元素\n",
    "b.insert(5, 6)\n",
    "b.insert(6, 7, 8, 9, 10)\n",
    "// 使用remove()函数可以移除指定位置的元素\n",
    "b.remove(1)\n",
    "b.remove(1, 3)\n",
    "// Array与ArrayBuffer可以互相进行转换\n",
    "b.toArray\n",
    "a.toBuffer\n",
    "复制代码\n",
    "遍历Array和ArrayBuffer\n",
    "\n",
    "复制代码\n",
    " 1 // 使用for循环和until遍历Array / ArrayBuffer\n",
    " 2 // 使until是RichInt提供的函数\n",
    " 3 for (i <- 0 until b.length)\n",
    " 4   println(b(i))\n",
    " 5 // 跳跃遍历Array / ArrayBuffer\n",
    " 6 for(i <- 0 until (b.length, 2))\n",
    " 7   println(b(i))\n",
    " 8 // 从尾部遍历Array / ArrayBuffer\n",
    " 9 for(i <- (0 until b.length).reverse)\n",
    "10   println(b(i))\n",
    "11 // 使用“增强for循环”遍历Array / ArrayBuffer\n",
    "12 for (e <- b)\n",
    "13   println(e)\n",
    "复制代码\n",
    "数组常见操作\n",
    "\n",
    "复制代码\n",
    " 1 // 数组元素求和\n",
    " 2 val a = Array(1, 2, 3, 4, 5)\n",
    " 3 val sum = a.sum\n",
    " 4 // 获取数组最大值\n",
    " 5 val max = a.max\n",
    " 6 // 对数组进行排序\n",
    " 7 scala.util.Sorting.quickSort(a)\n",
    " 8 // 获取数组中所有元素内容\n",
    " 9 a.mkString\n",
    "10 a.mkString(\", \")\n",
    "11 a.mkString(\"<\", \",\", \">\")\n",
    "12 // toString函数\n",
    "13 a.toString\n",
    "14 b.toString"
   ]
  },
  {
   "cell_type": "code",
   "execution_count": 83,
   "metadata": {
    "collapsed": true
   },
   "outputs": [
    {
     "data": {
      "text/plain": [
       "\u001b[36mnums\u001b[0m: scala.Array[Int] = \u001b[33mArray\u001b[0m(\n",
       "  \u001b[32m0\u001b[0m,\n",
       "  \u001b[32m0\u001b[0m,\n",
       "  \u001b[32m0\u001b[0m,\n",
       "  \u001b[32m0\u001b[0m,\n",
       "  \u001b[32m0\u001b[0m,\n",
       "  \u001b[32m0\u001b[0m,\n",
       "  \u001b[32m0\u001b[0m,\n",
       "  \u001b[32m0\u001b[0m,\n",
       "  \u001b[32m0\u001b[0m,\n",
       "  \u001b[32m0\u001b[0m\n",
       ")\n",
       "\u001b[36ms\u001b[0m: scala.Array[java.lang.String] = \u001b[33mArray\u001b[0m(\u001b[32m\"Good\"\u001b[0m, \u001b[32m\"world\"\u001b[0m)\n",
       "\u001b[36mres73_3\u001b[0m: scala.Array[java.lang.String] = \u001b[33mArray\u001b[0m(\u001b[32m\"Good\"\u001b[0m, \u001b[32m\"world\"\u001b[0m)"
      ]
     },
     "metadata": {},
     "output_type": "display_data"
    }
   ],
   "source": [
    "// 定长数组\n",
    "val nums = new Array[Int](10)\n",
    "val s = Array(\"hello\",\"world\")\n",
    "s(0) = \"Good\"\n",
    "s\n"
   ]
  },
  {
   "cell_type": "code",
   "execution_count": 84,
   "metadata": {
    "collapsed": true
   },
   "outputs": [
    {
     "name": "stdout",
     "output_type": "stream",
     "text": [
      "0\n",
      "world\n"
     ]
    },
    {
     "data": {
      "text/plain": []
     },
     "metadata": {},
     "output_type": "display_data"
    }
   ],
   "source": [
    "println (nums(2))\n",
    "println (s(1))"
   ]
  },
  {
   "cell_type": "code",
   "execution_count": 85,
   "metadata": {
    "collapsed": true
   },
   "outputs": [
    {
     "data": {
      "text/plain": [
       "\u001b[32mimport \u001b[36mscala.collection.mutable.ArrayBuffer\u001b[0m\n",
       "\u001b[36mb\u001b[0m: scala.collection.mutable.ArrayBuffer[Int] = \u001b[33mArrayBuffer\u001b[0m()\n",
       "\u001b[36mb2\u001b[0m: scala.collection.mutable.ArrayBuffer[Int] = \u001b[33mArrayBuffer\u001b[0m()"
      ]
     },
     "metadata": {},
     "output_type": "display_data"
    }
   ],
   "source": [
    "//变长数组缓存\n",
    "import scala.collection.mutable.ArrayBuffer\n",
    "val b = ArrayBuffer[Int]()\n",
    "val b2 = new ArrayBuffer[Int] // If you use new, the () is optional"
   ]
  },
  {
   "cell_type": "code",
   "execution_count": null,
   "metadata": {
    "collapsed": true
   },
   "outputs": [],
   "source": []
  },
  {
   "cell_type": "code",
   "execution_count": 86,
   "metadata": {
    "collapsed": true
   },
   "outputs": [
    {
     "name": "stdout",
     "output_type": "stream",
     "text": [
      "-------------b += 1---------\n",
      "ArrayBuffer()\n",
      "-------------b += 1---------\n",
      "ArrayBuffer(1)\n",
      "ArrayBuffer(1, 111, 2, 3, 5)\n",
      "ArrayBuffer(1, 111, 2, 3, 5, 8, 13, 21)\n"
     ]
    },
    {
     "data": {
      "text/plain": [
       "\u001b[36mres76_2\u001b[0m: scala.collection.mutable.ArrayBuffer[Int] = \u001b[33mArrayBuffer\u001b[0m(\n",
       "  \u001b[32m1\u001b[0m,\n",
       "  \u001b[32m111\u001b[0m,\n",
       "  \u001b[32m2\u001b[0m,\n",
       "  \u001b[32m3\u001b[0m,\n",
       "  \u001b[32m5\u001b[0m,\n",
       "  \u001b[32m8\u001b[0m,\n",
       "  \u001b[32m13\u001b[0m,\n",
       "  \u001b[32m21\u001b[0m\n",
       ")\n",
       "\u001b[36mres76_5\u001b[0m: scala.collection.mutable.ArrayBuffer[Int] = \u001b[33mArrayBuffer\u001b[0m(\n",
       "  \u001b[32m1\u001b[0m,\n",
       "  \u001b[32m111\u001b[0m,\n",
       "  \u001b[32m2\u001b[0m,\n",
       "  \u001b[32m3\u001b[0m,\n",
       "  \u001b[32m5\u001b[0m,\n",
       "  \u001b[32m8\u001b[0m,\n",
       "  \u001b[32m13\u001b[0m,\n",
       "  \u001b[32m21\u001b[0m\n",
       ")\n",
       "\u001b[36mres76_7\u001b[0m: scala.collection.mutable.ArrayBuffer[Int] = \u001b[33mArrayBuffer\u001b[0m(\n",
       "  \u001b[32m1\u001b[0m,\n",
       "  \u001b[32m111\u001b[0m,\n",
       "  \u001b[32m2\u001b[0m,\n",
       "  \u001b[32m3\u001b[0m,\n",
       "  \u001b[32m5\u001b[0m,\n",
       "  \u001b[32m8\u001b[0m,\n",
       "  \u001b[32m13\u001b[0m,\n",
       "  \u001b[32m21\u001b[0m\n",
       ")"
      ]
     },
     "metadata": {},
     "output_type": "display_data"
    }
   ],
   "source": [
    "println (\"-------------b += 1---------\")\n",
    "println (b)\n",
    "b += 1\n",
    "println (\"-------------b += 1---------\")\n",
    "println (b)\n",
    "b += (111,2,3,5)\n",
    "println (b)\n",
    "b ++= Array(8,13,21)\n",
    "println (b)"
   ]
  },
  {
   "cell_type": "code",
   "execution_count": 87,
   "metadata": {
    "collapsed": true
   },
   "outputs": [
    {
     "name": "stdout",
     "output_type": "stream",
     "text": [
      "ArrayBuffer(1, 111, 2, 3, 5, 8, 13, 21)\n",
      "ArrayBuffer(1, 111, 2)\n"
     ]
    },
    {
     "data": {
      "text/plain": []
     },
     "metadata": {},
     "output_type": "display_data"
    }
   ],
   "source": [
    "//删除最后5个元素\n",
    "println (b)\n",
    "b.trimEnd(5)\n",
    "println (b)"
   ]
  },
  {
   "cell_type": "code",
   "execution_count": 88,
   "metadata": {
    "collapsed": true
   },
   "outputs": [
    {
     "name": "stdout",
     "output_type": "stream",
     "text": [
      "在第三个位置插入 6\n",
      "ArrayBuffer(1, 111, 2)\n",
      "ArrayBuffer(1, 111, 6, 2)\n"
     ]
    },
    {
     "data": {
      "text/plain": []
     },
     "metadata": {},
     "output_type": "display_data"
    }
   ],
   "source": [
    "println(\"在第三个位置插入 6\")\n",
    "println(b)\n",
    "b.insert(2,6)\n",
    "println (b)\n"
   ]
  },
  {
   "cell_type": "code",
   "execution_count": 89,
   "metadata": {},
   "outputs": [
    {
     "name": "stdout",
     "output_type": "stream",
     "text": [
      "在第三个位置插入 11,22,33\n",
      "ArrayBuffer(1, 111, 6, 2)\n",
      "ArrayBuffer(1, 111, 11, 22, 33, 6, 2)\n"
     ]
    },
    {
     "data": {
      "text/plain": []
     },
     "metadata": {},
     "output_type": "display_data"
    }
   ],
   "source": [
    "println(\"在第三个位置插入 11,22,33\")\n",
    "println(b)\n",
    "b.insert(2,11,22,33)\n",
    "println (b)\n"
   ]
  },
  {
   "cell_type": "code",
   "execution_count": 90,
   "metadata": {
    "collapsed": true
   },
   "outputs": [
    {
     "name": "stdout",
     "output_type": "stream",
     "text": [
      "删除第三个元素\n",
      "ArrayBuffer(1, 111, 11, 22, 33, 6, 2)\n",
      "ArrayBuffer(1, 111, 22, 33, 6, 2)\n"
     ]
    },
    {
     "data": {
      "text/plain": [
       "\u001b[36mres80_2\u001b[0m: Int = \u001b[32m11\u001b[0m"
      ]
     },
     "metadata": {},
     "output_type": "display_data"
    }
   ],
   "source": [
    "println(\"删除第三个元素\")\n",
    "println(b)\n",
    "b.remove(2)\n",
    "println (b)\n"
   ]
  },
  {
   "cell_type": "code",
   "execution_count": 91,
   "metadata": {
    "collapsed": true
   },
   "outputs": [
    {
     "name": "stdout",
     "output_type": "stream",
     "text": [
      "删除从第三个开始的3个元素\n",
      "ArrayBuffer(1, 111, 22, 33, 6, 2)\n",
      "ArrayBuffer(1, 111, 2)\n"
     ]
    },
    {
     "data": {
      "text/plain": []
     },
     "metadata": {},
     "output_type": "display_data"
    }
   ],
   "source": [
    "println(\"删除从第三个开始的3个元素\")\n",
    "println(b)\n",
    "b.remove(2,3)\n",
    "println (b)"
   ]
  },
  {
   "cell_type": "code",
   "execution_count": 92,
   "metadata": {
    "collapsed": true
   },
   "outputs": [
    {
     "data": {
      "text/plain": [
       "\u001b[36ma1\u001b[0m: scala.Array[Int] = \u001b[33mArray\u001b[0m(\u001b[32m1\u001b[0m, \u001b[32m111\u001b[0m, \u001b[32m2\u001b[0m)\n",
       "\u001b[36mres82_1\u001b[0m: scala.collection.mutable.Buffer[Int] = \u001b[33mArrayBuffer\u001b[0m(\u001b[32m1\u001b[0m, \u001b[32m111\u001b[0m, \u001b[32m2\u001b[0m)"
      ]
     },
     "metadata": {},
     "output_type": "display_data"
    }
   ],
   "source": [
    "//变长数组与不变数组之间的转换\n",
    "val a1 = b.toArray\n",
    "a1.toBuffer"
   ]
  },
  {
   "cell_type": "code",
   "execution_count": 92,
   "metadata": {
    "collapsed": true
   },
   "outputs": [],
   "source": [
    "//数组遍历"
   ]
  },
  {
   "cell_type": "code",
   "execution_count": 93,
   "metadata": {
    "collapsed": true
   },
   "outputs": [
    {
     "name": "stdout",
     "output_type": "stream",
     "text": [
      "0:1\n",
      "1:2\n",
      "2:3\n",
      "3:4\n",
      "4:5\n",
      "5:4\n",
      "6:3\n",
      "7:2\n",
      "8:1\n"
     ]
    },
    {
     "data": {
      "text/plain": [
       "\u001b[36ma\u001b[0m: scala.Array[Int] = \u001b[33mArray\u001b[0m(\n",
       "  \u001b[32m1\u001b[0m,\n",
       "  \u001b[32m2\u001b[0m,\n",
       "  \u001b[32m3\u001b[0m,\n",
       "  \u001b[32m4\u001b[0m,\n",
       "  \u001b[32m5\u001b[0m,\n",
       "  \u001b[32m4\u001b[0m,\n",
       "  \u001b[32m3\u001b[0m,\n",
       "  \u001b[32m2\u001b[0m,\n",
       "  \u001b[32m1\u001b[0m\n",
       ")"
      ]
     },
     "metadata": {},
     "output_type": "display_data"
    }
   ],
   "source": [
    "val a = Array(1,2,3,4,5,4,3,2,1)\n",
    "// 下标访问\n",
    "for (i <- 0 until a.length){\n",
    "    println (i + \":\" + a(i))\n",
    "}"
   ]
  },
  {
   "cell_type": "code",
   "execution_count": 94,
   "metadata": {
    "collapsed": true
   },
   "outputs": [
    {
     "data": {
      "text/plain": [
       "\u001b[36mres84_0\u001b[0m: scala.collection.immutable.Range = \u001b[33mRange\u001b[0m(\n",
       "  \u001b[32m0\u001b[0m,\n",
       "  \u001b[32m1\u001b[0m,\n",
       "  \u001b[32m2\u001b[0m,\n",
       "  \u001b[32m3\u001b[0m,\n",
       "  \u001b[32m4\u001b[0m,\n",
       "  \u001b[32m5\u001b[0m,\n",
       "  \u001b[32m6\u001b[0m,\n",
       "  \u001b[32m7\u001b[0m,\n",
       "  \u001b[32m8\u001b[0m\n",
       ")\n",
       "\u001b[36mb\u001b[0m: scala.collection.immutable.Range = \u001b[33mRange\u001b[0m(\u001b[32m0\u001b[0m, \u001b[32m2\u001b[0m, \u001b[32m4\u001b[0m, \u001b[32m6\u001b[0m, \u001b[32m8\u001b[0m)\n",
       "\u001b[36mres84_2\u001b[0m: scala.collection.immutable.Range = \u001b[33mRange\u001b[0m(\u001b[32m4\u001b[0m, \u001b[32m3\u001b[0m, \u001b[32m2\u001b[0m, \u001b[32m1\u001b[0m, \u001b[32m0\u001b[0m)"
      ]
     },
     "metadata": {},
     "output_type": "display_data"
    }
   ],
   "source": [
    "//产生一个 Range\n",
    "0 until a.length\n",
    "//产生一个Range,以2为间隔\n",
    "val b = (0 until (a.length,2))\n",
    "//Range 倒转\n",
    "(0 until b.length).reverse\n"
   ]
  },
  {
   "cell_type": "code",
   "execution_count": 95,
   "metadata": {
    "collapsed": true
   },
   "outputs": [
    {
     "name": "stdout",
     "output_type": "stream",
     "text": [
      "1\n",
      "2\n",
      "3\n",
      "44444444\n",
      "5\n",
      "4\n",
      "3\n",
      "2\n",
      "1\n"
     ]
    },
    {
     "data": {
      "text/plain": [
       "\u001b[36ma\u001b[0m: scala.Array[Int] = \u001b[33mArray\u001b[0m(\n",
       "  \u001b[32m1\u001b[0m,\n",
       "  \u001b[32m2\u001b[0m,\n",
       "  \u001b[32m3\u001b[0m,\n",
       "  \u001b[32m44444444\u001b[0m,\n",
       "  \u001b[32m5\u001b[0m,\n",
       "  \u001b[32m4\u001b[0m,\n",
       "  \u001b[32m3\u001b[0m,\n",
       "  \u001b[32m2\u001b[0m,\n",
       "  \u001b[32m1\u001b[0m\n",
       ")"
      ]
     },
     "metadata": {},
     "output_type": "display_data"
    }
   ],
   "source": [
    "// a 遍历\n",
    "val a = Array(1,2,3,44444444,5,4,3,2,1)\n",
    "for (elem <- a){\n",
    "    println(elem)\n",
    "}\n"
   ]
  },
  {
   "cell_type": "code",
   "execution_count": 96,
   "metadata": {
    "collapsed": true
   },
   "outputs": [
    {
     "name": "stdout",
     "output_type": "stream",
     "text": [
      "0:1\n",
      "1:2\n",
      "2:3\n",
      "3:44444444\n",
      "4:5\n",
      "5:4\n",
      "6:3\n",
      "7:2\n",
      "8:1\n"
     ]
    },
    {
     "data": {
      "text/plain": []
     },
     "metadata": {},
     "output_type": "display_data"
    }
   ],
   "source": [
    "//索引\n",
    "for ( i <- a.indices ){\n",
    "    println(i + \":\" + a(i))\n",
    "}"
   ]
  },
  {
   "cell_type": "code",
   "execution_count": null,
   "metadata": {
    "collapsed": true
   },
   "outputs": [],
   "source": []
  }
 ],
 "metadata": {
  "kernelspec": {
   "display_name": "Scala 2.10",
   "language": "scala210",
   "name": "scala210"
  },
  "language_info": {
   "codemirror_mode": "text/x-scala",
   "file_extension": "scala",
   "mimetype": "text/x-scala",
   "name": "scala210",
   "pygments_lexer": "scala",
   "version": "2.10.5"
  }
 },
 "nbformat": 4,
 "nbformat_minor": 2
}
