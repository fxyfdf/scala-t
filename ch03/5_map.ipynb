{
 "cells": [
  {
   "cell_type": "code",
   "execution_count": 19,
   "metadata": {},
   "outputs": [
    {
     "data": {
      "text/plain": [
       "\u001b[36mscores\u001b[0m: scala.collection.immutable.Map[java.lang.String,Int] = \u001b[33mMap\u001b[0m(\u001b[32m\"A\"\u001b[0m -> \u001b[32m10\u001b[0m, \u001b[32m\"B\"\u001b[0m -> \u001b[32m3\u001b[0m, \u001b[32m\"C\"\u001b[0m -> \u001b[32m4\u001b[0m)\n",
       "\u001b[36mscores1\u001b[0m: scala.collection.mutable.Map[java.lang.String,Int] = Map(B1 -> 3, A1 -> 10, C1 -> 4)\n",
       "\u001b[36mscores2\u001b[0m: scala.collection.mutable.HashMap[String,Int] = Map()\n",
       "\u001b[36mres8_3\u001b[0m: (java.lang.String, Int) = \u001b[33m\u001b[0m(\u001b[32m\"Alice\"\u001b[0m, \u001b[32m10\u001b[0m)\n",
       "\u001b[36mscores3\u001b[0m: scala.collection.immutable.Map[java.lang.String,Int] = \u001b[33mMap\u001b[0m(\u001b[32m\"Alice\"\u001b[0m -> \u001b[32m10\u001b[0m, \u001b[32m\"B\"\u001b[0m -> \u001b[32m11\u001b[0m, \u001b[32m\"C\"\u001b[0m -> \u001b[32m12\u001b[0m)\n",
       "\u001b[36mbobsScore\u001b[0m: Int = \u001b[32m11\u001b[0m\n",
       "\u001b[36mfredsScore\u001b[0m: Int = \u001b[32m0\u001b[0m\n",
       "\u001b[36mres8_7\u001b[0m: Int = \u001b[32m3\u001b[0m"
      ]
     },
     "metadata": {},
     "output_type": "display_data"
    }
   ],
   "source": [
    "// 不可变构造映射\n",
    "val scores = Map( \"A\" -> 10, \"B\" -> 3, \"C\" -> 4)\n",
    "// 可变映射\n",
    "val scores1 = scala.collection.mutable.Map( \"A1\" -> 10, \"B1\" -> 3, \"C1\" -> 4)\n",
    "// 空映射\n",
    "val scores2 = new scala.collection.mutable.HashMap[String,Int]\n",
    "//对偶\n",
    "\"Alice\" -> 10\n",
    "//对偶元组\n",
    "val scores3 = Map((\"Alice\",10),(\"B\",11),(\"C\",12))\n",
    "//获取值\n",
    "\n",
    "val bobsScore = scores3(\"B\")\n",
    "// contains 检测\n",
    "val fredsScore = if (scores.contains(\"AA\")) scores(\"AA\") else 0\n",
    "\n",
    "// 可以用getOrElse 替换检测\n",
    "scores.getOrElse(\"B\",0)\n",
    "\n",
    "\n"
   ]
  },
  {
   "cell_type": "code",
   "execution_count": 47,
   "metadata": {},
   "outputs": [
    {
     "data": {
      "text/plain": [
       "\u001b[36mscores1\u001b[0m: scala.collection.mutable.Map[java.lang.String,Int] = Map(B1 -> 3, A1 -> 10, C1 -> 4)\n",
       "\u001b[36mscores11\u001b[0m: scala.collection.immutable.Map[java.lang.String,Int] = \u001b[33mMap\u001b[0m(\u001b[32m\"A\"\u001b[0m -> \u001b[32m10\u001b[0m, \u001b[32m\"B\"\u001b[0m -> \u001b[32m3\u001b[0m, \u001b[32m\"C\"\u001b[0m -> \u001b[32m4\u001b[0m)\n",
       "\u001b[36mres24_2\u001b[0m: scala.Option[Int] = Some(10)\n",
       "\u001b[36mres24_3\u001b[0m: Int = \u001b[32m10\u001b[0m\n",
       "\u001b[36mres24_4\u001b[0m: scala.Option[Int] = Some(3)\n",
       "\u001b[36mscores12\u001b[0m: scala.collection.mutable.Map[java.lang.String,Int] = Map(D -> 11, A -> 10, C -> 44, E -> 55, B -> 10)\n",
       "\u001b[36mres24_7\u001b[0m: scala.collection.mutable.Map[java.lang.String,Int] = Map(D -> 11, A -> 10, C -> 44, E -> 55, B -> 10)\n",
       "\u001b[36mres24_8\u001b[0m: scala.collection.mutable.Map[java.lang.String,Int] = Map(D -> 11, A -> 10, C -> 44, E -> 55, B -> 10)\n",
       "\u001b[36mres24_9\u001b[0m: scala.collection.mutable.Map[java.lang.String,Int] = Map(D -> 11, A -> 10, C -> 44, E -> 55, B -> 10)\n",
       "\u001b[36mres24_10\u001b[0m: scala.collection.mutable.Map[java.lang.String,Int] = Map(D -> 11, A -> 10, C -> 44, E -> 55, B -> 10)"
      ]
     },
     "metadata": {},
     "output_type": "display_data"
    }
   ],
   "source": [
    "val scores1 = scala.collection.mutable.Map( \"A1\" -> 10, \"B1\" -> 3, \"C1\" -> 4)\n",
    "val scores11 = Map( \"A\" -> 10, \"B\" -> 3, \"C\" -> 4)\n",
    "// 显示调用get,获得Option Some None\n",
    "scores11.get(\"A\")\n",
    "scores11.get(\"A\").get\n",
    "scores11.get(\"B\")\n",
    "//设置值\n",
    "val scores12 = scala.collection.mutable.Map( \"A\" -> 10, \"B\" -> 3, \"C\" -> 4 )\n",
    "scores12(\"D\") = 11\n",
    "scores12\n",
    "\n",
    "scores12 += (\"B\" -> 10, \"C\" -> 44, \"E\" -> 55) \n",
    "scores12\n",
    "//scores12 -= (\"E\")\n",
    "scores12"
   ]
  },
  {
   "cell_type": "code",
   "execution_count": 63,
   "metadata": {},
   "outputs": [
    {
     "name": "stdout",
     "output_type": "stream",
     "text": [
      "A is  mapped to10\r\n",
      "B is  mapped to3\r\n",
      "C is  mapped to4\r\n"
     ]
    },
    {
     "data": {
      "text/plain": [
       "\u001b[36mscores13\u001b[0m: scala.collection.immutable.Map[java.lang.String,Int] = \u001b[33mMap\u001b[0m(\u001b[32m\"A\"\u001b[0m -> \u001b[32m10\u001b[0m, \u001b[32m\"B\"\u001b[0m -> \u001b[32m3\u001b[0m, \u001b[32m\"C\"\u001b[0m -> \u001b[32m4\u001b[0m)\n",
       "\u001b[36mnewScores\u001b[0m: scala.collection.immutable.Map[java.lang.String,Int] = \u001b[33mMap\u001b[0m(\n",
       "  \u001b[32m\"A\"\u001b[0m -> \u001b[32m10\u001b[0m,\n",
       "  \u001b[32m\"B3\"\u001b[0m -> \u001b[32m13\u001b[0m,\n",
       "  \u001b[32m\"B\"\u001b[0m -> \u001b[32m3\u001b[0m,\n",
       "  \u001b[32m\"C\"\u001b[0m -> \u001b[32m4\u001b[0m,\n",
       "  \u001b[32m\"C3\"\u001b[0m -> \u001b[32m133\u001b[0m\n",
       ")\n",
       "\u001b[36mres34_3\u001b[0m: scala.collection.immutable.Map[Int,java.lang.String] = \u001b[33mMap\u001b[0m(\u001b[32m10\u001b[0m -> \u001b[32m\"A\"\u001b[0m, \u001b[32m3\u001b[0m -> \u001b[32m\"B\"\u001b[0m, \u001b[32m4\u001b[0m -> \u001b[32m\"C\"\u001b[0m)\n",
       "\u001b[36maa\u001b[0m: scala.collection.immutable.Map[Int,java.lang.String] = \u001b[33mMap\u001b[0m(\u001b[32m10\u001b[0m -> \u001b[32m\"A\"\u001b[0m, \u001b[32m3\u001b[0m -> \u001b[32m\"B\"\u001b[0m, \u001b[32m4\u001b[0m -> \u001b[32m\"C\"\u001b[0m)\n",
       "\u001b[36mres34_5\u001b[0m: scala.collection.immutable.Map[Int,java.lang.String] = \u001b[33mMap\u001b[0m(\u001b[32m10\u001b[0m -> \u001b[32m\"A\"\u001b[0m, \u001b[32m3\u001b[0m -> \u001b[32m\"B\"\u001b[0m, \u001b[32m4\u001b[0m -> \u001b[32m\"C\"\u001b[0m)"
      ]
     },
     "metadata": {},
     "output_type": "display_data"
    }
   ],
   "source": [
    "//不可变映射不能修改，但能够产生新映射\n",
    "val scores13 = Map( \"A\" -> 10, \"B\" -> 3, \"C\" -> 4)\n",
    "val newScores = scores13 + (\"B3\" -> 13, \"C3\" -> 133 )\n",
    "//newScores \n",
    "//遍历\n",
    "for ((k,v) <- scores) println(k + \" is  mapped to\" + v)\n",
    "//产生新的Map\n",
    "for ((k,v) <- scores) yield (v, k)\n",
    "val aa = (for ((k,v) <- scores) yield (v, k))\n",
    "\n"
   ]
  },
  {
   "cell_type": "code",
   "execution_count": 74,
   "metadata": {},
   "outputs": [
    {
     "data": {
      "text/plain": [
       "\u001b[36mscores14\u001b[0m: scala.collection.immutable.SortedMap[java.lang.String,Int] = \u001b[33mMap\u001b[0m(\u001b[32m\"A\"\u001b[0m -> \u001b[32m10\u001b[0m, \u001b[32m\"C\"\u001b[0m -> \u001b[32m11\u001b[0m, \u001b[32m\"D\"\u001b[0m -> \u001b[32m12\u001b[0m)\n",
       "\u001b[36mscores15\u001b[0m: scala.collection.mutable.Map[java.lang.String,Int] = Map(A -> 10, C -> 3, B -> 4)"
      ]
     },
     "metadata": {},
     "output_type": "display_data"
    }
   ],
   "source": [
    "//排序\n",
    "val scores14 = scala.collection.immutable.SortedMap(\"A\" -> 10 , \"D\" -> 12, \"C\" -> 11)\n",
    "\n",
    "val scores15 = scala.collection.mutable.Map( \"A\" -> 10, \"C\" -> 3, \"B\" -> 4)\n",
    "//val scores16 = scala.collection.immutable.SortedMap(scores15)\n"
   ]
  },
  {
   "cell_type": "code",
   "execution_count": 76,
   "metadata": {},
   "outputs": [
    {
     "data": {
      "text/plain": [
       "\u001b[36mmonths\u001b[0m: scala.collection.mutable.LinkedHashMap[java.lang.String,Int] = Map(January -> 1, February -> 2, March -> 3, April -> 4, May -> 5, June -> 6, July -> 7, August -> 8, September -> 9, October -> 10, November -> 11, December -> 12)"
      ]
     },
     "metadata": {},
     "output_type": "display_data"
    }
   ],
   "source": [
    "//双向链表 HashMap\n",
    "val months = scala.collection.mutable.LinkedHashMap(\"January\" -> 1,\n",
    "                                                    \"February\" -> 2, \n",
    "                                                    \"March\" -> 3,\n",
    "                                                    \"April\" -> 4,\n",
    "                                                    \"May\" -> 5,\n",
    "                                                    \"June\" -> 6,\n",
    "                                                    \"July\" -> 7, \n",
    "                                                    \"August\" -> 8, \n",
    "                                                    \"September\" -> 9,\n",
    "                                                    \"October\" -> 10, \n",
    "                                                    \"November\" -> 11, \n",
    "                                                    \"December\" -> 12)"
   ]
  },
  {
   "cell_type": "code",
   "execution_count": 77,
   "metadata": {},
   "outputs": [
    {
     "data": {
      "text/plain": [
       "\u001b[32mimport \u001b[36mscala.collection.JavaConverters._\u001b[0m\n",
       "\u001b[36mids\u001b[0m: scala.collection.mutable.Map[java.lang.String,java.lang.String] = Map(CTT -> Asia/Shanghai, ART -> Africa/Cairo, CNT -> America/St_Johns, PRT -> America/Puerto_Rico, PNT -> America/Phoenix, PLT -> Asia/Karachi, AST -> America/Anchorage, BST -> Asia/Dhaka, CST -> America/Chicago, EST -> -05:00, HST -> -10:00, JST -> Asia/Tokyo, IST -> Asia/Kolkata, AGT -> America/Argentina/Buenos_Aires, NST -> Pacific/Auckland, MST -> -07:00, AET -> Australia/Sydney, BET -> America/Sao_Paulo, PST -> America/Los_Angeles, ACT -> Australia/Darwin, SST -> Pacific/Guadalcanal, VST -> Asia/Ho_Chi_Minh, CAT -> Africa/Harare, ECT -> Europe/Paris, EAT -> Africa/Addis_Ababa, IET -> America/Indiana/Indianapolis, MIT -> Pacific/Apia, NET -> Asia/Yerevan)\n",
       "\u001b[36mprops\u001b[0m: scala.collection.mutable.Map[String,String] = Map(java.runtime.name -> Java(TM) SE Runtime Environment, sun.boot.library.path -> D:\\Java\\jdk1.8.0_171\\jre\\bin, java.vm.version -> 25.171-b11, java.vm.vendor -> Oracle Corporation, java.vendor.url -> http://java.oracle.com/, path.separator -> ;, java.vm.name -> Java HotSpot(TM) 64-Bit Server VM, file.encoding.pkg -> sun.io, user.country -> CN, user.script -> , sun.java.launcher -> SUN_STANDARD, sun.os.patch.level -> , java.vm.specification.name -> Java Virtual Machine Specification, user.dir -> D:\\all-project\\Code-jupyter-notebook\\scala\\ch03, java.runtime.version -> 1.8.0_171-b11, java.awt.graphicsenv -> sun.awt.Win32GraphicsEnvironment, java.endorsed.dirs -> D:\\Java\\jdk1.8.0_171\\jre\\lib\\endorsed, os.arch -> amd64, java.io.tmpdir -> C:\\Users\\lenovo\\AppData\\Local\\Temp\\, line.separator -> \r\n",
       ", java.vm.specification.vendor -> Oracle Corporation, user.variant -> , os.name -> Windows 10, sun.jnu.encoding -> GBK, java.library.path -> D:\\Java\\jdk1.8.0_171\\bin;C:\\WINDOWS\\Sun\\Java\\bin;C:\\WINDOWS\\system32;C:\\WINDOWS;D:\\Anaconda3;D:\\Anaconda3\\Library\\mingw-w64\\bin;D:\\Anaconda3\\Library\\usr\\bin;D:\\Anaconda3\\Library\\bin;D:\\Anaconda3\\Scripts;D:\\Anaconda3\\bin;c:\\gtk\\bin;C:\\Program Files (x86)\\Intel\\iCLS Client\\;C:\\Program Files (x86)\\Common Files\\Oracle\\Java\\javapath;C:\\Program Files\\Intel\\iCLS Client\\;C:\\WINDOWS\\system32;C:\\WINDOWS;C:\\WINDOWS\\System32\\Wbem;C:\\WINDOWS\\System32\\WindowsPowerShell\\v1.0\\;C:\\WINDOWS\\System32\\OpenSSH\\;C:\\Program Files\\Intel\\WiFi\\bin\\;C:\\Program Files\\Common Files\\I\u001b[33m...\u001b[0m\n",
       "\u001b[32mimport \u001b[36mjava.awt.font.TextAttribute._\u001b[0m\n",
       "\u001b[36mattrs\u001b[0m: scala.collection.immutable.Map[java.awt.font.TextAttribute,Any] = \u001b[33mMap\u001b[0m(java.awt.font.TextAttribute(family) -> Serif, java.awt.font.TextAttribute(size) -> 12)\n",
       "\u001b[36mfont\u001b[0m: java.awt.Font = java.awt.Font[family=Serif,name=Serif,style=plain,size=12]"
      ]
     },
     "metadata": {},
     "output_type": "display_data"
    }
   ],
   "source": [
    "//  map java \n",
    "\n",
    "import scala.collection.JavaConverters._\n",
    "val ids = java.time.ZoneId.SHORT_IDS.asScala\n",
    "\n",
    "val props = System.getProperties().asScala\n",
    "\n",
    "import java.awt.font.TextAttribute._ // Import keys for map below\n",
    "val attrs = Map(FAMILY -> \"Serif\", SIZE -> 12) // A Scala map\n",
    "val font = new java.awt.Font(attrs.asJava) // Expects a Java map\n"
   ]
  }
 ],
 "metadata": {
  "kernelspec": {
   "display_name": "Scala 2.10",
   "language": "scala210",
   "name": "scala210"
  },
  "language_info": {
   "codemirror_mode": "text/x-scala",
   "file_extension": "scala",
   "mimetype": "text/x-scala",
   "name": "scala210",
   "pygments_lexer": "scala",
   "version": "2.10.5"
  }
 },
 "nbformat": 4,
 "nbformat_minor": 2
}
