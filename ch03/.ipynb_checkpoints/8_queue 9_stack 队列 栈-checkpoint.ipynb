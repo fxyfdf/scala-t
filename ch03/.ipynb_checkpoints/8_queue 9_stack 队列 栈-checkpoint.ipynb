{
 "cells": [
  {
   "cell_type": "markdown",
   "metadata": {},
   "source": [
    "# 队列 "
   ]
  },
  {
   "cell_type": "code",
   "execution_count": 1,
   "metadata": {},
   "outputs": [
    {
     "data": {
      "text/plain": [
       "\u001b[36mq1\u001b[0m: scala.collection.mutable.Queue[Int] = \u001b[33mQueue\u001b[0m(\u001b[32m2\u001b[0m, \u001b[32m3\u001b[0m, \u001b[32m4\u001b[0m, \u001b[32m5\u001b[0m, \u001b[32m6\u001b[0m, \u001b[32m7\u001b[0m)\n",
       "\u001b[36mres0_1\u001b[0m: scala.collection.mutable.Queue[Int] = \u001b[33mQueue\u001b[0m(\u001b[32m2\u001b[0m, \u001b[32m3\u001b[0m, \u001b[32m4\u001b[0m, \u001b[32m5\u001b[0m, \u001b[32m6\u001b[0m, \u001b[32m7\u001b[0m)\n",
       "\u001b[36mres0_2\u001b[0m: scala.collection.mutable.Queue[Int] = \u001b[33mQueue\u001b[0m(\u001b[32m2\u001b[0m, \u001b[32m3\u001b[0m, \u001b[32m4\u001b[0m, \u001b[32m5\u001b[0m, \u001b[32m6\u001b[0m, \u001b[32m7\u001b[0m)\n",
       "\u001b[36mres0_3\u001b[0m: scala.collection.mutable.Queue[Int] = \u001b[33mQueue\u001b[0m(\u001b[32m2\u001b[0m, \u001b[32m3\u001b[0m, \u001b[32m4\u001b[0m, \u001b[32m5\u001b[0m, \u001b[32m6\u001b[0m, \u001b[32m7\u001b[0m)\n",
       "\u001b[36mres0_4\u001b[0m: Int = \u001b[32m1\u001b[0m\n",
       "\u001b[36mres0_6\u001b[0m: scala.collection.mutable.Queue[Int] = \u001b[33mQueue\u001b[0m(\u001b[32m2\u001b[0m, \u001b[32m3\u001b[0m, \u001b[32m4\u001b[0m, \u001b[32m5\u001b[0m, \u001b[32m6\u001b[0m, \u001b[32m7\u001b[0m)\n",
       "\u001b[36mres0_7\u001b[0m: Int = \u001b[32m2\u001b[0m\n",
       "\u001b[36mres0_8\u001b[0m: scala.collection.mutable.Queue[Int] = \u001b[33mQueue\u001b[0m(\u001b[32m3\u001b[0m, \u001b[32m4\u001b[0m, \u001b[32m5\u001b[0m, \u001b[32m6\u001b[0m, \u001b[32m7\u001b[0m)"
      ]
     },
     "metadata": {},
     "output_type": "display_data"
    }
   ],
   "source": [
    "val q1 = new scala.collection.mutable.Queue[Int]\n",
    "\n",
    "//追加元素\n",
    "q1 += 1\n",
    "\n",
    "q1 += 2\n",
    "\n",
    "//追加多个元素并返回队列\n",
    "q1 ++= List(3, 4)\n",
    "\n",
    "//返回并从队列删除第一个元素\n",
    "q1.dequeue()\n",
    "\n",
    "//追加多个元素，返回类型为Unit\n",
    "q1.enqueue(5, 6, 7)\n",
    "\n",
    "q1\n",
    "\n",
    "//队列首部\n",
    "q1.head\n",
    "\n",
    "//队列尾部\n",
    "q1.tail\n"
   ]
  },
  {
   "cell_type": "markdown",
   "metadata": {},
   "source": [
    "# 9_stack 栈"
   ]
  },
  {
   "cell_type": "code",
   "execution_count": 6,
   "metadata": {},
   "outputs": [
    {
     "name": "stdout",
     "output_type": "stream",
     "text": [
      "Stack(1)\n",
      "Stack(4, 3, 2, 1)\n",
      "Stack(3, 2, 1)\n",
      "Stack(5, 3, 2, 1)\n",
      "Stack(5, 3, 2, 1)\n"
     ]
    },
    {
     "data": {
      "text/plain": [
       "\u001b[36ms\u001b[0m: scala.collection.mutable.Stack[Int] = \u001b[33mStack\u001b[0m(\u001b[32m5\u001b[0m, \u001b[32m3\u001b[0m, \u001b[32m2\u001b[0m, \u001b[32m1\u001b[0m)\n",
       "\u001b[36mres5_1\u001b[0m: scala.collection.mutable.Stack[Int] = \u001b[33mStack\u001b[0m(\u001b[32m5\u001b[0m, \u001b[32m3\u001b[0m, \u001b[32m2\u001b[0m, \u001b[32m1\u001b[0m)\n",
       "\u001b[36mres5_3\u001b[0m: scala.collection.mutable.Stack[Int] = \u001b[33mStack\u001b[0m(\u001b[32m5\u001b[0m, \u001b[32m3\u001b[0m, \u001b[32m2\u001b[0m, \u001b[32m1\u001b[0m)\n",
       "\u001b[36mres5_5\u001b[0m: Int = \u001b[32m4\u001b[0m\n",
       "\u001b[36mres5_7\u001b[0m: scala.collection.mutable.Stack[Int] = \u001b[33mStack\u001b[0m(\u001b[32m5\u001b[0m, \u001b[32m3\u001b[0m, \u001b[32m2\u001b[0m, \u001b[32m1\u001b[0m)\n",
       "\u001b[36mres5_9\u001b[0m: Int = \u001b[32m5\u001b[0m"
      ]
     },
     "metadata": {},
     "output_type": "display_data"
    }
   ],
   "source": [
    "val s = new scala.collection.mutable.Stack[Int]()\n",
    "\n",
    "//入栈\n",
    "s.push(1)\n",
    "println(s)\n",
    "//入栈多个元素\n",
    "s.push(2, 3, 4)\n",
    "println (s)\n",
    "//出栈\n",
    "s.pop()\n",
    "println(s)\n",
    "\n",
    "\n",
    "s.push(5)\n",
    "println(s)\n",
    "//取栈顶元素而不出栈\n",
    "s.top\n",
    "println(s)\n",
    "\n"
   ]
  },
  {
   "cell_type": "code",
   "execution_count": null,
   "metadata": {},
   "outputs": [],
   "source": []
  },
  {
   "cell_type": "code",
   "execution_count": null,
   "metadata": {},
   "outputs": [],
   "source": []
  }
 ],
 "metadata": {
  "kernelspec": {
   "display_name": "Scala 2.10",
   "language": "scala210",
   "name": "scala210"
  },
  "language_info": {
   "codemirror_mode": "text/x-scala",
   "file_extension": "scala",
   "mimetype": "text/x-scala",
   "name": "scala210",
   "pygments_lexer": "scala",
   "version": "2.10.5"
  }
 },
 "nbformat": 4,
 "nbformat_minor": 2
}
