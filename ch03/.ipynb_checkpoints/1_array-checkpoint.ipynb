{
 "cells": [
  {
   "cell_type": "code",
   "execution_count": 83,
   "metadata": {
    "collapsed": true
   },
   "outputs": [
    {
     "data": {
      "text/plain": [
       "\u001b[36mnums\u001b[0m: scala.Array[Int] = \u001b[33mArray\u001b[0m(\n",
       "  \u001b[32m0\u001b[0m,\n",
       "  \u001b[32m0\u001b[0m,\n",
       "  \u001b[32m0\u001b[0m,\n",
       "  \u001b[32m0\u001b[0m,\n",
       "  \u001b[32m0\u001b[0m,\n",
       "  \u001b[32m0\u001b[0m,\n",
       "  \u001b[32m0\u001b[0m,\n",
       "  \u001b[32m0\u001b[0m,\n",
       "  \u001b[32m0\u001b[0m,\n",
       "  \u001b[32m0\u001b[0m\n",
       ")\n",
       "\u001b[36ms\u001b[0m: scala.Array[java.lang.String] = \u001b[33mArray\u001b[0m(\u001b[32m\"Good\"\u001b[0m, \u001b[32m\"world\"\u001b[0m)\n",
       "\u001b[36mres73_3\u001b[0m: scala.Array[java.lang.String] = \u001b[33mArray\u001b[0m(\u001b[32m\"Good\"\u001b[0m, \u001b[32m\"world\"\u001b[0m)"
      ]
     },
     "metadata": {},
     "output_type": "display_data"
    }
   ],
   "source": [
    "// 定长数组\n",
    "val nums = new Array[Int](10)\n",
    "val s = Array(\"hello\",\"world\")\n",
    "s(0) = \"Good\"\n",
    "s\n"
   ]
  },
  {
   "cell_type": "code",
   "execution_count": 84,
   "metadata": {
    "collapsed": true
   },
   "outputs": [
    {
     "name": "stdout",
     "output_type": "stream",
     "text": [
      "0\n",
      "world\n"
     ]
    },
    {
     "data": {
      "text/plain": []
     },
     "metadata": {},
     "output_type": "display_data"
    }
   ],
   "source": [
    "println (nums(2))\n",
    "println (s(1))"
   ]
  },
  {
   "cell_type": "code",
   "execution_count": 85,
   "metadata": {
    "collapsed": true
   },
   "outputs": [
    {
     "data": {
      "text/plain": [
       "\u001b[32mimport \u001b[36mscala.collection.mutable.ArrayBuffer\u001b[0m\n",
       "\u001b[36mb\u001b[0m: scala.collection.mutable.ArrayBuffer[Int] = \u001b[33mArrayBuffer\u001b[0m()\n",
       "\u001b[36mb2\u001b[0m: scala.collection.mutable.ArrayBuffer[Int] = \u001b[33mArrayBuffer\u001b[0m()"
      ]
     },
     "metadata": {},
     "output_type": "display_data"
    }
   ],
   "source": [
    "//变长数组缓存\n",
    "import scala.collection.mutable.ArrayBuffer\n",
    "val b = ArrayBuffer[Int]()\n",
    "val b2 = new ArrayBuffer[Int] // If you use new, the () is optional"
   ]
  },
  {
   "cell_type": "code",
   "execution_count": null,
   "metadata": {
    "collapsed": true
   },
   "outputs": [],
   "source": []
  },
  {
   "cell_type": "code",
   "execution_count": 86,
   "metadata": {
    "collapsed": true
   },
   "outputs": [
    {
     "name": "stdout",
     "output_type": "stream",
     "text": [
      "-------------b += 1---------\n",
      "ArrayBuffer()\n",
      "-------------b += 1---------\n",
      "ArrayBuffer(1)\n",
      "ArrayBuffer(1, 111, 2, 3, 5)\n",
      "ArrayBuffer(1, 111, 2, 3, 5, 8, 13, 21)\n"
     ]
    },
    {
     "data": {
      "text/plain": [
       "\u001b[36mres76_2\u001b[0m: scala.collection.mutable.ArrayBuffer[Int] = \u001b[33mArrayBuffer\u001b[0m(\n",
       "  \u001b[32m1\u001b[0m,\n",
       "  \u001b[32m111\u001b[0m,\n",
       "  \u001b[32m2\u001b[0m,\n",
       "  \u001b[32m3\u001b[0m,\n",
       "  \u001b[32m5\u001b[0m,\n",
       "  \u001b[32m8\u001b[0m,\n",
       "  \u001b[32m13\u001b[0m,\n",
       "  \u001b[32m21\u001b[0m\n",
       ")\n",
       "\u001b[36mres76_5\u001b[0m: scala.collection.mutable.ArrayBuffer[Int] = \u001b[33mArrayBuffer\u001b[0m(\n",
       "  \u001b[32m1\u001b[0m,\n",
       "  \u001b[32m111\u001b[0m,\n",
       "  \u001b[32m2\u001b[0m,\n",
       "  \u001b[32m3\u001b[0m,\n",
       "  \u001b[32m5\u001b[0m,\n",
       "  \u001b[32m8\u001b[0m,\n",
       "  \u001b[32m13\u001b[0m,\n",
       "  \u001b[32m21\u001b[0m\n",
       ")\n",
       "\u001b[36mres76_7\u001b[0m: scala.collection.mutable.ArrayBuffer[Int] = \u001b[33mArrayBuffer\u001b[0m(\n",
       "  \u001b[32m1\u001b[0m,\n",
       "  \u001b[32m111\u001b[0m,\n",
       "  \u001b[32m2\u001b[0m,\n",
       "  \u001b[32m3\u001b[0m,\n",
       "  \u001b[32m5\u001b[0m,\n",
       "  \u001b[32m8\u001b[0m,\n",
       "  \u001b[32m13\u001b[0m,\n",
       "  \u001b[32m21\u001b[0m\n",
       ")"
      ]
     },
     "metadata": {},
     "output_type": "display_data"
    }
   ],
   "source": [
    "println (\"-------------b += 1---------\")\n",
    "println (b)\n",
    "b += 1\n",
    "println (\"-------------b += 1---------\")\n",
    "println (b)\n",
    "b += (111,2,3,5)\n",
    "println (b)\n",
    "b ++= Array(8,13,21)\n",
    "println (b)"
   ]
  },
  {
   "cell_type": "code",
   "execution_count": 87,
   "metadata": {
    "collapsed": true
   },
   "outputs": [
    {
     "name": "stdout",
     "output_type": "stream",
     "text": [
      "ArrayBuffer(1, 111, 2, 3, 5, 8, 13, 21)\n",
      "ArrayBuffer(1, 111, 2)\n"
     ]
    },
    {
     "data": {
      "text/plain": []
     },
     "metadata": {},
     "output_type": "display_data"
    }
   ],
   "source": [
    "//删除最后5个元素\n",
    "println (b)\n",
    "b.trimEnd(5)\n",
    "println (b)"
   ]
  },
  {
   "cell_type": "code",
   "execution_count": 88,
   "metadata": {
    "collapsed": true
   },
   "outputs": [
    {
     "name": "stdout",
     "output_type": "stream",
     "text": [
      "在第三个位置插入 6\n",
      "ArrayBuffer(1, 111, 2)\n",
      "ArrayBuffer(1, 111, 6, 2)\n"
     ]
    },
    {
     "data": {
      "text/plain": []
     },
     "metadata": {},
     "output_type": "display_data"
    }
   ],
   "source": [
    "println(\"在第三个位置插入 6\")\n",
    "println(b)\n",
    "b.insert(2,6)\n",
    "println (b)\n"
   ]
  },
  {
   "cell_type": "code",
   "execution_count": 89,
   "metadata": {
    "collapsed": true
   },
   "outputs": [
    {
     "name": "stdout",
     "output_type": "stream",
     "text": [
      "在第三个位置插入 11,22,33\n",
      "ArrayBuffer(1, 111, 6, 2)\n",
      "ArrayBuffer(1, 111, 11, 22, 33, 6, 2)\n"
     ]
    },
    {
     "data": {
      "text/plain": []
     },
     "metadata": {},
     "output_type": "display_data"
    }
   ],
   "source": [
    "println(\"在第三个位置插入 11,22,33\")\n",
    "println(b)\n",
    "b.insert(2,11,22,33)\n",
    "println (b)\n"
   ]
  },
  {
   "cell_type": "code",
   "execution_count": 90,
   "metadata": {
    "collapsed": true
   },
   "outputs": [
    {
     "name": "stdout",
     "output_type": "stream",
     "text": [
      "删除第三个元素\n",
      "ArrayBuffer(1, 111, 11, 22, 33, 6, 2)\n",
      "ArrayBuffer(1, 111, 22, 33, 6, 2)\n"
     ]
    },
    {
     "data": {
      "text/plain": [
       "\u001b[36mres80_2\u001b[0m: Int = \u001b[32m11\u001b[0m"
      ]
     },
     "metadata": {},
     "output_type": "display_data"
    }
   ],
   "source": [
    "println(\"删除第三个元素\")\n",
    "println(b)\n",
    "b.remove(2)\n",
    "println (b)\n"
   ]
  },
  {
   "cell_type": "code",
   "execution_count": 91,
   "metadata": {
    "collapsed": true
   },
   "outputs": [
    {
     "name": "stdout",
     "output_type": "stream",
     "text": [
      "删除从第三个开始的3个元素\n",
      "ArrayBuffer(1, 111, 22, 33, 6, 2)\n",
      "ArrayBuffer(1, 111, 2)\n"
     ]
    },
    {
     "data": {
      "text/plain": []
     },
     "metadata": {},
     "output_type": "display_data"
    }
   ],
   "source": [
    "println(\"删除从第三个开始的3个元素\")\n",
    "println(b)\n",
    "b.remove(2,3)\n",
    "println (b)"
   ]
  },
  {
   "cell_type": "code",
   "execution_count": 92,
   "metadata": {
    "collapsed": true
   },
   "outputs": [
    {
     "data": {
      "text/plain": [
       "\u001b[36ma1\u001b[0m: scala.Array[Int] = \u001b[33mArray\u001b[0m(\u001b[32m1\u001b[0m, \u001b[32m111\u001b[0m, \u001b[32m2\u001b[0m)\n",
       "\u001b[36mres82_1\u001b[0m: scala.collection.mutable.Buffer[Int] = \u001b[33mArrayBuffer\u001b[0m(\u001b[32m1\u001b[0m, \u001b[32m111\u001b[0m, \u001b[32m2\u001b[0m)"
      ]
     },
     "metadata": {},
     "output_type": "display_data"
    }
   ],
   "source": [
    "//变长数组与不变数组之间的转换\n",
    "val a1 = b.toArray\n",
    "a1.toBuffer"
   ]
  },
  {
   "cell_type": "code",
   "execution_count": 92,
   "metadata": {
    "collapsed": true
   },
   "outputs": [],
   "source": [
    "//数组遍历"
   ]
  },
  {
   "cell_type": "code",
   "execution_count": 93,
   "metadata": {
    "collapsed": true
   },
   "outputs": [
    {
     "name": "stdout",
     "output_type": "stream",
     "text": [
      "0:1\n",
      "1:2\n",
      "2:3\n",
      "3:4\n",
      "4:5\n",
      "5:4\n",
      "6:3\n",
      "7:2\n",
      "8:1\n"
     ]
    },
    {
     "data": {
      "text/plain": [
       "\u001b[36ma\u001b[0m: scala.Array[Int] = \u001b[33mArray\u001b[0m(\n",
       "  \u001b[32m1\u001b[0m,\n",
       "  \u001b[32m2\u001b[0m,\n",
       "  \u001b[32m3\u001b[0m,\n",
       "  \u001b[32m4\u001b[0m,\n",
       "  \u001b[32m5\u001b[0m,\n",
       "  \u001b[32m4\u001b[0m,\n",
       "  \u001b[32m3\u001b[0m,\n",
       "  \u001b[32m2\u001b[0m,\n",
       "  \u001b[32m1\u001b[0m\n",
       ")"
      ]
     },
     "metadata": {},
     "output_type": "display_data"
    }
   ],
   "source": [
    "val a = Array(1,2,3,4,5,4,3,2,1)\n",
    "// 下标访问\n",
    "for (i <- 0 until a.length){\n",
    "    println (i + \":\" + a(i))\n",
    "}"
   ]
  },
  {
   "cell_type": "code",
   "execution_count": 94,
   "metadata": {
    "collapsed": true
   },
   "outputs": [
    {
     "data": {
      "text/plain": [
       "\u001b[36mres84_0\u001b[0m: scala.collection.immutable.Range = \u001b[33mRange\u001b[0m(\n",
       "  \u001b[32m0\u001b[0m,\n",
       "  \u001b[32m1\u001b[0m,\n",
       "  \u001b[32m2\u001b[0m,\n",
       "  \u001b[32m3\u001b[0m,\n",
       "  \u001b[32m4\u001b[0m,\n",
       "  \u001b[32m5\u001b[0m,\n",
       "  \u001b[32m6\u001b[0m,\n",
       "  \u001b[32m7\u001b[0m,\n",
       "  \u001b[32m8\u001b[0m\n",
       ")\n",
       "\u001b[36mb\u001b[0m: scala.collection.immutable.Range = \u001b[33mRange\u001b[0m(\u001b[32m0\u001b[0m, \u001b[32m2\u001b[0m, \u001b[32m4\u001b[0m, \u001b[32m6\u001b[0m, \u001b[32m8\u001b[0m)\n",
       "\u001b[36mres84_2\u001b[0m: scala.collection.immutable.Range = \u001b[33mRange\u001b[0m(\u001b[32m4\u001b[0m, \u001b[32m3\u001b[0m, \u001b[32m2\u001b[0m, \u001b[32m1\u001b[0m, \u001b[32m0\u001b[0m)"
      ]
     },
     "metadata": {},
     "output_type": "display_data"
    }
   ],
   "source": [
    "//产生一个 Range\n",
    "0 until a.length\n",
    "//产生一个Range,以2为间隔\n",
    "val b = (0 until (a.length,2))\n",
    "//Range 倒转\n",
    "(0 until b.length).reverse\n"
   ]
  },
  {
   "cell_type": "code",
   "execution_count": 95,
   "metadata": {
    "collapsed": true
   },
   "outputs": [
    {
     "name": "stdout",
     "output_type": "stream",
     "text": [
      "1\n",
      "2\n",
      "3\n",
      "44444444\n",
      "5\n",
      "4\n",
      "3\n",
      "2\n",
      "1\n"
     ]
    },
    {
     "data": {
      "text/plain": [
       "\u001b[36ma\u001b[0m: scala.Array[Int] = \u001b[33mArray\u001b[0m(\n",
       "  \u001b[32m1\u001b[0m,\n",
       "  \u001b[32m2\u001b[0m,\n",
       "  \u001b[32m3\u001b[0m,\n",
       "  \u001b[32m44444444\u001b[0m,\n",
       "  \u001b[32m5\u001b[0m,\n",
       "  \u001b[32m4\u001b[0m,\n",
       "  \u001b[32m3\u001b[0m,\n",
       "  \u001b[32m2\u001b[0m,\n",
       "  \u001b[32m1\u001b[0m\n",
       ")"
      ]
     },
     "metadata": {},
     "output_type": "display_data"
    }
   ],
   "source": [
    "// a 遍历\n",
    "val a = Array(1,2,3,44444444,5,4,3,2,1)\n",
    "for (elem <- a){\n",
    "    println(elem)\n",
    "}\n"
   ]
  },
  {
   "cell_type": "code",
   "execution_count": 96,
   "metadata": {
    "collapsed": true
   },
   "outputs": [
    {
     "name": "stdout",
     "output_type": "stream",
     "text": [
      "0:1\n",
      "1:2\n",
      "2:3\n",
      "3:44444444\n",
      "4:5\n",
      "5:4\n",
      "6:3\n",
      "7:2\n",
      "8:1\n"
     ]
    },
    {
     "data": {
      "text/plain": []
     },
     "metadata": {},
     "output_type": "display_data"
    }
   ],
   "source": [
    "//索引\n",
    "for ( i <- a.indices ){\n",
    "    println(i + \":\" + a(i))\n",
    "}"
   ]
  },
  {
   "cell_type": "code",
   "execution_count": null,
   "metadata": {
    "collapsed": true
   },
   "outputs": [],
   "source": []
  }
 ],
 "metadata": {
  "kernelspec": {
   "display_name": "Scala 2.10",
   "language": "scala210",
   "name": "scala210"
  },
  "language_info": {
   "codemirror_mode": "text/x-scala",
   "file_extension": "scala",
   "mimetype": "text/x-scala",
   "name": "scala210",
   "pygments_lexer": "scala",
   "version": "2.10.5"
  }
 },
 "nbformat": 4,
 "nbformat_minor": 2
}
