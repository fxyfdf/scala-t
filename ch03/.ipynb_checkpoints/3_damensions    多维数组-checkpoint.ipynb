{
 "cells": [
  {
   "cell_type": "code",
   "execution_count": 7,
   "metadata": {
    "collapsed": true
   },
   "outputs": [
    {
     "name": "stdout",
     "output_type": "stream",
     "text": [
      "-------------------------\n"
     ]
    },
    {
     "data": {
      "text/plain": [
       "\u001b[36mmatrix\u001b[0m: scala.Array[scala.Array[Double]] = \u001b[33mArray\u001b[0m(\n",
       "  \u001b[33mArray\u001b[0m(\u001b[32m0.0\u001b[0m, \u001b[32m0.0\u001b[0m, \u001b[32m17.21\u001b[0m, \u001b[32m0.0\u001b[0m),\n",
       "  \u001b[33mArray\u001b[0m(\u001b[32m0.0\u001b[0m, \u001b[32m0.0\u001b[0m, \u001b[32m0.0\u001b[0m, \u001b[32m0.0\u001b[0m),\n",
       "  \u001b[33mArray\u001b[0m(\u001b[32m0.0\u001b[0m, \u001b[32m0.0\u001b[0m, \u001b[32m0.0\u001b[0m, \u001b[32m0.0\u001b[0m)\n",
       ")\n",
       "\u001b[36mrow\u001b[0m: Int = \u001b[32m0\u001b[0m\n",
       "\u001b[36mcolumn\u001b[0m: Int = \u001b[32m2\u001b[0m\n",
       "\u001b[36mres4_5\u001b[0m: Int = \u001b[32m3\u001b[0m\n",
       "\u001b[36mres4_6\u001b[0m: scala.Array[Double] = \u001b[33mArray\u001b[0m(\u001b[32m0.0\u001b[0m, \u001b[32m0.0\u001b[0m, \u001b[32m17.21\u001b[0m, \u001b[32m0.0\u001b[0m)\n",
       "\u001b[36mres4_7\u001b[0m: Int = \u001b[32m4\u001b[0m"
      ]
     },
     "metadata": {},
     "output_type": "display_data"
    }
   ],
   "source": [
    "//多维数组 3行 4列\n",
    "val matrix = Array.ofDim[Double]( n1 = 3, n2 = 4)\n",
    "val row = 0\n",
    "val column = 2\n",
    "matrix(0)(2) = 17.21\n",
    "println (\"-------------------------\")\n",
    "matrix.length\n",
    "matrix(row)\n",
    "matrix(row).length"
   ]
  },
  {
   "cell_type": "code",
   "execution_count": 9,
   "metadata": {
    "collapsed": true
   },
   "outputs": [
    {
     "data": {
      "text/plain": [
       "\u001b[36mtriangle\u001b[0m: scala.Array[scala.Array[Int]] = \u001b[33mArray\u001b[0m(\n",
       "  \u001b[33mArray\u001b[0m(\u001b[32m1\u001b[0m),\n",
       "  \u001b[33mArray\u001b[0m(\u001b[32m0\u001b[0m, \u001b[32m0\u001b[0m),\n",
       "  \u001b[33mArray\u001b[0m(\u001b[32m0\u001b[0m, \u001b[32m0\u001b[0m, \u001b[32m0\u001b[0m),\n",
       "  \u001b[33mArray\u001b[0m(\u001b[32m0\u001b[0m, \u001b[32m0\u001b[0m, \u001b[32m0\u001b[0m, \u001b[32m0\u001b[0m),\n",
       "  \u001b[33mArray\u001b[0m(\u001b[32m0\u001b[0m, \u001b[32m0\u001b[0m, \u001b[32m0\u001b[0m, \u001b[32m0\u001b[0m, \u001b[32m0\u001b[0m),\n",
       "  \u001b[33mArray\u001b[0m(\u001b[32m0\u001b[0m, \u001b[32m0\u001b[0m, \u001b[32m0\u001b[0m, \u001b[32m0\u001b[0m, \u001b[32m0\u001b[0m, \u001b[32m0\u001b[0m),\n",
       "  \u001b[33mArray\u001b[0m(\u001b[32m0\u001b[0m, \u001b[32m0\u001b[0m, \u001b[32m0\u001b[0m, \u001b[32m0\u001b[0m, \u001b[32m0\u001b[0m, \u001b[32m0\u001b[0m, \u001b[32m0\u001b[0m),\n",
       "  \u001b[33mArray\u001b[0m(\n",
       "    \u001b[32m0\u001b[0m,\n",
       "    \u001b[32m0\u001b[0m,\n",
       "    \u001b[32m0\u001b[0m,\n",
       "    \u001b[32m0\u001b[0m,\n",
       "    \u001b[32m0\u001b[0m,\n",
       "\u001b[33m...\u001b[0m"
      ]
     },
     "metadata": {},
     "output_type": "display_data"
    }
   ],
   "source": [
    "val triangle = new Array[Array[Int]](10)\n",
    "\n",
    "for (i <- triangle.indices) \n",
    "  triangle(i) = new Array[Int](i + 1)\n",
    "\n",
    "triangle(0)(0) = 1"
   ]
  },
  {
   "cell_type": "code",
   "execution_count": 13,
   "metadata": {
    "collapsed": true
   },
   "outputs": [
    {
     "name": "stdout",
     "output_type": "stream",
     "text": [
      "1 \n",
      "1 1 \n",
      "1 2 1 \n",
      "1 3 3 1 \n",
      "1 4 6 4 1 \n",
      "1 5 10 10 5 1 \n",
      "1 6 15 20 15 6 1 \n",
      "1 7 21 35 35 21 7 1 \n",
      "1 8 28 56 70 56 28 8 1 \n",
      "1 9 36 84 126 126 84 36 9 1 \n"
     ]
    },
    {
     "data": {
      "text/plain": []
     },
     "metadata": {},
     "output_type": "display_data"
    }
   ],
   "source": [
    "for (i <- 1 until triangle.length) {\n",
    "  triangle(i)(0) = 1\n",
    "  triangle(i)(i) = 1\n",
    "  for (j <- 1 until triangle(i).length - 1) \n",
    "    triangle(i)(j) = triangle(i - 1)(j - 1) + triangle(i - 1)(j)\n",
    "}\n",
    "\n",
    "for (row <- triangle) {\n",
    "  for (elem <- row) print(elem + \" \") \n",
    "  println()\n",
    "}"
   ]
  },
  {
   "cell_type": "code",
   "execution_count": 14,
   "metadata": {},
   "outputs": [
    {
     "data": {
      "text/plain": [
       "\u001b[32mimport \u001b[36mscala.collection.JavaConverters._\u001b[0m\n",
       "\u001b[32mimport \u001b[36mscala.collection.mutable\u001b[0m\n",
       "\u001b[32mimport \u001b[36mscala.collection.mutable.ArrayBuffer\u001b[0m\n",
       "\u001b[36mcommand\u001b[0m: scala.collection.mutable.ArrayBuffer[java.lang.String] = \u001b[33mArrayBuffer\u001b[0m(\u001b[32m\"ls\"\u001b[0m, \u001b[32m\"-al\"\u001b[0m, \u001b[32m\"/\"\u001b[0m)\n",
       "\u001b[36mpb\u001b[0m: java.lang.ProcessBuilder = java.lang.ProcessBuilder@5f848e53\n",
       "\u001b[36mcmd\u001b[0m: scala.collection.mutable.Buffer[String] = \u001b[33mArrayBuffer\u001b[0m(\u001b[32m\"ls\"\u001b[0m, \u001b[32m\"-al\"\u001b[0m, \u001b[32m\"/\"\u001b[0m)\n",
       "\u001b[36mres11_6\u001b[0m: Boolean = true"
      ]
     },
     "metadata": {},
     "output_type": "display_data"
    }
   ],
   "source": [
    "// 和Java的互操作\n",
    "\n",
    "import scala.collection.JavaConverters._\n",
    "import scala.collection.mutable\n",
    "import scala.collection.mutable.ArrayBuffer\n",
    "\n",
    "val command = ArrayBuffer(\"ls\", \"-al\", \"/\")\n",
    "// ProessBuilder是java方法\n",
    "val pb = new ProcessBuilder(command.asJava) // Scala to Java\n",
    "\n",
    "val cmd : mutable.Buffer[String] = pb.command().asScala // Java to Scala\n",
    "\n",
    "cmd == command\n"
   ]
  }
 ],
 "metadata": {
  "kernelspec": {
   "display_name": "Scala 2.10",
   "language": "scala210",
   "name": "scala210"
  },
  "language_info": {
   "codemirror_mode": "text/x-scala",
   "file_extension": "scala",
   "mimetype": "text/x-scala",
   "name": "scala210",
   "pygments_lexer": "scala",
   "version": "2.10.5"
  }
 },
 "nbformat": 4,
 "nbformat_minor": 2
}
