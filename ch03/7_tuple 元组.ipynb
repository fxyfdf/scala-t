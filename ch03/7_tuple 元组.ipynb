{
 "cells": [
  {
   "cell_type": "markdown",
   "metadata": {},
   "source": [
    "# 元组基本操作"
   ]
  },
  {
   "cell_type": "code",
   "execution_count": 7,
   "metadata": {
    "collapsed": true
   },
   "outputs": [
    {
     "data": {
      "text/plain": [
       "\u001b[36mres4_0\u001b[0m: (Int, Double, java.lang.String) = \u001b[33m\u001b[0m(\u001b[32m1\u001b[0m, \u001b[32m3.14\u001b[0m, \u001b[32m\"Fred\"\u001b[0m)\n",
       "\u001b[36mt\u001b[0m: (Int, Int, java.lang.String) = \u001b[33m\u001b[0m(\u001b[32m1\u001b[0m, \u001b[32m2\u001b[0m, \u001b[32m\"a\"\u001b[0m)\n",
       "\u001b[36msecond\u001b[0m: Int = \u001b[32m2\u001b[0m\n",
       "\u001b[36mfirst\u001b[0m: Int = \u001b[32m1\u001b[0m\n",
       "\u001b[36mres4_4\u001b[0m: (Int, Int, java.lang.String) = \u001b[33m\u001b[0m(\u001b[32m1\u001b[0m, \u001b[32m2\u001b[0m, \u001b[32m\"a\"\u001b[0m)\n",
       "\u001b[36mfirst1\u001b[0m: Int = \u001b[32m1\u001b[0m\n",
       "\u001b[36msecond1\u001b[0m: Int = \u001b[32m2\u001b[0m\n",
       "\u001b[36mthird\u001b[0m: java.lang.String = \u001b[32m\"a\"\u001b[0m\n",
       "\u001b[36mfirst2\u001b[0m: Int = \u001b[32m1\u001b[0m\n",
       "\u001b[36msecond2\u001b[0m: Int = \u001b[32m2\u001b[0m"
      ]
     },
     "metadata": {},
     "output_type": "display_data"
    }
   ],
   "source": [
    "(1, 3.14, \"Fred\")\n",
    "val t = (1,2,\"a\")\n",
    "val second = t._2\n",
    "val first = t._1\n",
    "\n",
    "//变量赋值\n",
    "t\n",
    "val (first1,second1,third) = t\n",
    "val (first2,second2, _) = t"
   ]
  },
  {
   "cell_type": "code",
   "execution_count": 8,
   "metadata": {},
   "outputs": [
    {
     "name": "stdout",
     "output_type": "stream",
     "text": [
      "<<---------->>"
     ]
    },
    {
     "data": {
      "text/plain": [
       "\u001b[36msymbols\u001b[0m: scala.Array[java.lang.String] = \u001b[33mArray\u001b[0m(\u001b[32m\"<\"\u001b[0m, \u001b[32m\"-\"\u001b[0m, \u001b[32m\">\"\u001b[0m)\n",
       "\u001b[36mcounts\u001b[0m: scala.Array[Int] = \u001b[33mArray\u001b[0m(\u001b[32m2\u001b[0m, \u001b[32m10\u001b[0m, \u001b[32m2\u001b[0m)\n",
       "\u001b[36mpairs\u001b[0m: scala.Array[(java.lang.String, Int)] = \u001b[33mArray\u001b[0m(\n",
       "  \u001b[33m\u001b[0m(\u001b[32m\"<\"\u001b[0m, \u001b[32m2\u001b[0m),\n",
       "  \u001b[33m\u001b[0m(\u001b[32m\"-\"\u001b[0m, \u001b[32m10\u001b[0m),\n",
       "  \u001b[33m\u001b[0m(\u001b[32m\">\"\u001b[0m, \u001b[32m2\u001b[0m)\n",
       ")\n",
       "\u001b[36mres5_4\u001b[0m: scala.collection.immutable.Map[java.lang.String,Int] = \u001b[33mMap\u001b[0m(\u001b[32m\"<\"\u001b[0m -> \u001b[32m2\u001b[0m, \u001b[32m\"-\"\u001b[0m -> \u001b[32m10\u001b[0m, \u001b[32m\">\"\u001b[0m -> \u001b[32m2\u001b[0m)"
      ]
     },
     "metadata": {},
     "output_type": "display_data"
    }
   ],
   "source": [
    "// 拉链操作\n",
    "val symbols = Array(\"<\", \"-\", \">\")\n",
    "val counts = Array(2, 10, 2)\n",
    "val pairs = symbols.zip(counts)\n",
    "\n",
    "for ((s, n) <- pairs) print(s * n)\n",
    "\n",
    "symbols.zip(counts).toMap"
   ]
  }
 ],
 "metadata": {
  "kernelspec": {
   "display_name": "Scala 2.10",
   "language": "scala210",
   "name": "scala210"
  },
  "language_info": {
   "codemirror_mode": "text/x-scala",
   "file_extension": "scala",
   "mimetype": "text/x-scala",
   "name": "scala210",
   "pygments_lexer": "scala",
   "version": "2.10.5"
  }
 },
 "nbformat": 4,
 "nbformat_minor": 2
}
