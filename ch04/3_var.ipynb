{
 "cells": [
  {
   "cell_type": "markdown",
   "metadata": {},
   "source": [
    "# ch04 3_var"
   ]
  },
  {
   "cell_type": "markdown",
   "metadata": {},
   "source": [
    "// 返回str 的一组索引Range\n",
    "for (i <- str.indices) {"
   ]
  },
  {
   "cell_type": "code",
   "execution_count": 1,
   "metadata": {},
   "outputs": [
    {
     "name": "stderr",
     "output_type": "stream",
     "text": [
      "cmd1.sc:8: not found: value sing\n",
      "        case '-' => sing = -1\n",
      "                    ^cmd1.sc:9: overloaded method value digit with alternatives:\n",
      "  (x$1: Int,x$2: Int)Int <and>\n",
      "  (x$1: Char,x$2: Int)Int\n",
      " cannot be applied to (Char, radix: Int)\n",
      "        case ch if Character.isDigit(ch) => digit = Character.digit(ch, radix=10)\n",
      "                                                              ^cmd1.sc:12: value digit is not a member of String\n",
      "    println(str(i) + \" \" + sign + \" \" digit )\n",
      "                                      ^"
     ]
    },
    {
     "ename": "",
     "evalue": "",
     "output_type": "error",
     "traceback": [
      "Compilation Failed"
     ]
    }
   ],
   "source": [
    "// -*- coding: UTF-8 -*-\n",
    "val str = \"+-3!\"\n",
    "\n",
    "for (i <- str.indices) {\n",
    "    var sign = 0\n",
    "    var digit = 0\n",
    "    str(i) match {\n",
    "        case '+' => sign = 1\n",
    "        case '-' => sing = -1\n",
    "        case ch if Character.isDigit(ch) => digit = Character.digit(ch, radix=10)\n",
    "        case _=>\n",
    "    }\n",
    "    println(str(i) + \" \" + sign + \" \" digit )\n",
    "}\n"
   ]
  },
  {
   "cell_type": "code",
   "execution_count": null,
   "metadata": {},
   "outputs": [],
   "source": []
  }
 ],
 "metadata": {
  "kernelspec": {
   "display_name": "Scala 2.11.11",
   "language": "scala",
   "name": "scala"
  },
  "language_info": {
   "codemirror_mode": "text/x-scala",
   "file_extension": ".scala",
   "mimetype": "text/x-scala",
   "name": "scala211",
   "nbconvert_exporter": "script",
   "pygments_lexer": "scala",
   "version": "2.11.11"
  }
 },
 "nbformat": 4,
 "nbformat_minor": 2
}
