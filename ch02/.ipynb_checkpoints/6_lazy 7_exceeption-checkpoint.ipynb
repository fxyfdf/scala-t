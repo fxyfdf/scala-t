{
 "cells": [
  {
   "cell_type": "markdown",
   "metadata": {},
   "source": [
    "6_lazy 7_exceeption"
   ]
  },
  {
   "cell_type": "raw",
   "metadata": {},
   "source": [
    "懒值\n",
    "当val 被声明为lazy时，他的初始化将被推迟，直到我们首次对此取值\n",
    "懒值使用注意：\n",
    "1) 对于初始化开销比较大的语句\n",
    "2) 可以解决循环依赖问题\n",
    "3) 是开发懒值数据结构的基础"
   ]
  },
  {
   "cell_type": "code",
   "execution_count": 16,
   "metadata": {},
   "outputs": [
    {
     "data": {
      "text/plain": [
       "defined \u001b[32mfunction \u001b[36minit\u001b[0m"
      ]
     },
     "metadata": {},
     "output_type": "display_data"
    }
   ],
   "source": [
    "def init(): String = {\n",
    "    println(\"call init()\")\n",
    "    return \" \"\n",
    "}\n"
   ]
  },
  {
   "cell_type": "code",
   "execution_count": 22,
   "metadata": {},
   "outputs": [
    {
     "data": {
      "text/plain": [
       "defined \u001b[32mfunction \u001b[36mnoLazy\u001b[0m\n",
       "defined \u001b[32mfunction \u001b[36mlazyed\u001b[0m"
      ]
     },
     "metadata": {},
     "output_type": "display_data"
    }
   ],
   "source": [
    "def noLazy(){\n",
    "    val property = init(); //没有使用lazy 修饰\n",
    "    //println (\"after init()\")\n",
    "    println (property)\n",
    "}\n",
    "\n",
    "def lazyed(){\n",
    "    lazy val property = init(); //使用lazy 修饰\n",
    "    println (\"after init()\")\n",
    "    println(property)   \n",
    "}"
   ]
  },
  {
   "cell_type": "code",
   "execution_count": 23,
   "metadata": {},
   "outputs": [
    {
     "name": "stdout",
     "output_type": "stream",
     "text": [
      "没有使用lazy 修饰\n",
      "call init()\n",
      " \n",
      "---------------------\n",
      "使用lazy 修饰\n",
      "after init()\n",
      "call init()\n",
      " \n"
     ]
    },
    {
     "data": {
      "text/plain": []
     },
     "metadata": {},
     "output_type": "display_data"
    }
   ],
   "source": [
    "println (\"没有使用lazy 修饰\")\n",
    "noLazy()\n",
    "println (\"---------------------\")\n",
    "println (\"使用lazy 修饰\")\n",
    "lazyed()"
   ]
  },
  {
   "cell_type": "markdown",
   "metadata": {},
   "source": [
    "##### 7_exception"
   ]
  },
  {
   "cell_type": "code",
   "execution_count": 24,
   "metadata": {},
   "outputs": [
    {
     "name": "stdout",
     "output_type": "stream",
     "text": [
      "2.0\r\n",
      "java.lang.IllegalArgumentException: x should not be negative\r\n",
      "finally....\r\n"
     ]
    },
    {
     "data": {
      "text/plain": [
       "\u001b[32mimport \u001b[36mjava.io.IOException\u001b[0m\n",
       "\u001b[32mimport \u001b[36mscala.math._\u001b[0m\n",
       "defined \u001b[32mfunction \u001b[36mroot\u001b[0m"
      ]
     },
     "metadata": {},
     "output_type": "display_data"
    }
   ],
   "source": [
    "import java.io.IOException\n",
    "\n",
    "import scala.math._\n",
    "// 异常的为Nothing\n",
    "def root(x: Double) = \n",
    "  if (x >= 0) { sqrt(x) \n",
    "  } else throw new IllegalArgumentException(\"x should not be negative\")\n",
    "\n",
    "try {\n",
    "  println(root(4))\n",
    "  println(root(-4))\n",
    "} catch {\n",
    "  case e: Exception => println(e)\n",
    "} finally {\n",
    "  println(\"finally....\")\n",
    "}"
   ]
  }
 ],
 "metadata": {
  "kernelspec": {
   "display_name": "Scala 2.10",
   "language": "scala210",
   "name": "scala210"
  },
  "language_info": {
   "codemirror_mode": "text/x-scala",
   "file_extension": "scala",
   "mimetype": "text/x-scala",
   "name": "scala210",
   "pygments_lexer": "scala",
   "version": "2.10.5"
  }
 },
 "nbformat": 4,
 "nbformat_minor": 2
}
