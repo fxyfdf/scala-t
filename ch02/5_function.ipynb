{
 "cells": [
  {
   "cell_type": "markdown",
   "metadata": {},
   "source": [
    "//函数定义，返回类型可以自··m行推断m"
   ]
  },
  {
   "cell_type": "code",
   "execution_count": 5,
   "metadata": {},
   "outputs": [
    {
     "name": "stdout",
     "output_type": "stream",
     "text": [
      "12.0"
     ]
    },
    {
     "data": {
      "text/plain": [
       "defined \u001b[32mfunction \u001b[36mabs\u001b[0m"
      ]
     },
     "metadata": {},
     "output_type": "display_data"
    }
   ],
   "source": [
    "\n",
    "def abs(x: Double):Double = if(x>=0)x else -x\n",
    "print (abs(-12))"
   ]
  },
  {
   "cell_type": "code",
   "execution_count": 7,
   "metadata": {},
   "outputs": [
    {
     "name": "stdout",
     "output_type": "stream",
     "text": [
      "3628800\r\n"
     ]
    },
    {
     "data": {
      "text/plain": [
       "defined \u001b[32mfunction \u001b[36mfac\u001b[0m"
      ]
     },
     "metadata": {},
     "output_type": "display_data"
    }
   ],
   "source": [
    "def fac (n : Int) : Int = {\n",
    "    var r = 1\n",
    "    for (i <- 1 to n) r = r * i\n",
    "    r //{最后一个表达式为返回值}\n",
    "    \n",
    "}\n",
    "println(fac(10))"
   ]
  },
  {
   "cell_type": "markdown",
   "metadata": {},
   "source": [
    "递归函数 必须指定返回值类型"
   ]
  },
  {
   "cell_type": "code",
   "execution_count": 9,
   "metadata": {},
   "outputs": [
    {
     "name": "stdout",
     "output_type": "stream",
     "text": [
      "24\r\n"
     ]
    },
    {
     "data": {
      "text/plain": [
       "defined \u001b[32mfunction \u001b[36mrecursiverFac\u001b[0m"
      ]
     },
     "metadata": {},
     "output_type": "display_data"
    }
   ],
   "source": [
    "def recursiverFac(n: Int): Int = \n",
    "    if (n <= 0 ) 1 else n * recursiverFac(n-1)\n",
    "println(recursiverFac(4))"
   ]
  },
  {
   "cell_type": "markdown",
   "metadata": {},
   "source": [
    "设置默认参数"
   ]
  },
  {
   "cell_type": "code",
   "execution_count": 10,
   "metadata": {},
   "outputs": [
    {
     "name": "stdout",
     "output_type": "stream",
     "text": [
      "[Hello]\n",
      "<<<Hello>>>\n",
      ">>>[Hello]\n",
      "<<<Hello>>>\n",
      "[Hello]<<<\n"
     ]
    },
    {
     "data": {
      "text/plain": [
       "defined \u001b[32mfunction \u001b[36mdecorate\u001b[0m"
      ]
     },
     "metadata": {},
     "output_type": "display_data"
    }
   ],
   "source": [
    "def decorate(str: String, left: String = \"[\", right: String = \"]\") =\n",
    "  left + str + right\n",
    "\n",
    "println(decorate(\"Hello\"))\n",
    "\n",
    "println(decorate(\"Hello\", \"<<<\", \">>>\"))\n",
    "\n",
    "println(decorate(\"Hello\", \">>>[\"))\n",
    "\n",
    "println(decorate(left = \"<<<\", str = \"Hello\", right = \">>>\"))\n",
    "\n",
    "println(decorate(\"Hello\", right = \"]<<<\"))"
   ]
  },
  {
   "cell_type": "markdown",
   "metadata": {},
   "source": [
    "变长参数"
   ]
  },
  {
   "cell_type": "code",
   "execution_count": 14,
   "metadata": {},
   "outputs": [
    {
     "name": "stdout",
     "output_type": "stream",
     "text": [
      "55\n",
      "15\n"
     ]
    },
    {
     "data": {
      "text/plain": [
       "defined \u001b[32mfunction \u001b[36msum\u001b[0m\n",
       "\u001b[36ms\u001b[0m: Int = \u001b[32m55\u001b[0m\n",
       "\u001b[36ms2\u001b[0m: Int = \u001b[32m15\u001b[0m"
      ]
     },
     "metadata": {},
     "output_type": "display_data"
    }
   ],
   "source": [
    "def sum(args: Int*) = {\n",
    "  var result = 0\n",
    "  for (arg <- args) result += arg\n",
    "  result\n",
    "}\n",
    "\n",
    "val s = sum(1, 4, 9, 16, 25)\n",
    "println(s)\n",
    "// _* 告诉编译器将1 to 5 当做参数序列处理\n",
    "val s2 = sum(1 to 5: _*)\n",
    "println(s2)"
   ]
  },
  {
   "cell_type": "markdown",
   "metadata": {},
   "source": [
    "head是第一个元素，tail是剩下的元素的集合"
   ]
  },
  {
   "cell_type": "code",
   "execution_count": 15,
   "metadata": {},
   "outputs": [
    {
     "name": "stdout",
     "output_type": "stream",
     "text": [
      "55\r\n"
     ]
    },
    {
     "data": {
      "text/plain": [
       "defined \u001b[32mfunction \u001b[36mrecursiveSum\u001b[0m"
      ]
     },
     "metadata": {},
     "output_type": "display_data"
    }
   ],
   "source": [
    "def recursiveSum(args: Int*) : Int = {\n",
    "  if (args.length == 0) 0\n",
    "  else args.head + recursiveSum(args.tail : _*)\n",
    "}\n",
    "\n",
    "println(recursiveSum(1, 4, 9, 16, 25))\n",
    "\n"
   ]
  },
  {
   "cell_type": "code",
   "execution_count": 17,
   "metadata": {},
   "outputs": [
    {
     "name": "stdout",
     "output_type": "stream",
     "text": [
      "\n",
      "------\n",
      "|Fred|\n",
      "------\n",
      "\n",
      "\n",
      "-------\n",
      "|Wilma|\n",
      "-------\n",
      "\n"
     ]
    },
    {
     "data": {
      "text/plain": [
       "defined \u001b[32mfunction \u001b[36mbox\u001b[0m"
      ]
     },
     "metadata": {},
     "output_type": "display_data"
    }
   ],
   "source": [
    "// 过程定义\n",
    "def box(s : String) { // Look carefully: no =\n",
    "  val border = \"-\" * s.length + \"--\\n\"\n",
    "  println(\"\\n\" + border + \"|\" + s + \"|\\n\" + border)\n",
    "}\n",
    "\n",
    "box(\"Fred\")\n",
    "\n",
    "box(\"Wilma\")\n",
    "\n"
   ]
  },
  {
   "cell_type": "code",
   "execution_count": 18,
   "metadata": {},
   "outputs": [
    {
     "name": "stdout",
     "output_type": "stream",
     "text": [
      "\n",
      "------\n",
      "|Fred|\n",
      "------\n",
      "\n",
      "\n",
      "-------\n",
      "|Wilma|\n",
      "-------\n",
      "\n"
     ]
    },
    {
     "data": {
      "text/plain": [
       "defined \u001b[32mfunction \u001b[36mbox1\u001b[0m"
      ]
     },
     "metadata": {},
     "output_type": "display_data"
    }
   ],
   "source": [
    "// 或者如此定义\n",
    "def box1(s : String) : Unit = { // Look carefully: no =\n",
    "  val border = \"-\" * s.length + \"--\\n\"\n",
    "  println(\"\\n\" + border + \"|\" + s + \"|\\n\" + border)\n",
    "}\n",
    "\n",
    "box1(\"Fred\")\n",
    "\n",
    "box1(\"Wilma\")\n"
   ]
  },
  {
   "cell_type": "code",
   "execution_count": null,
   "metadata": {},
   "outputs": [],
   "source": []
  }
 ],
 "metadata": {
  "kernelspec": {
   "display_name": "Scala 2.10",
   "language": "scala210",
   "name": "scala210"
  },
  "language_info": {
   "codemirror_mode": "text/x-scala",
   "file_extension": "scala",
   "mimetype": "text/x-scala",
   "name": "scala210",
   "pygments_lexer": "scala",
   "version": "2.10.5"
  }
 },
 "nbformat": 4,
 "nbformat_minor": 2
}
