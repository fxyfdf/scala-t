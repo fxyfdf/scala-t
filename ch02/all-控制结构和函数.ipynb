{
 "cells": [
  {
   "cell_type": "markdown",
   "metadata": {},
   "source": [
    "###### 1_files \n",
    "###### 2_inout \n",
    "###### 3_while \n",
    "###### 4_for \n",
    "###### 5_function \n",
    "###### 6_lazy \n",
    "###### 7_exception "
   ]
  },
  {
   "cell_type": "markdown",
   "metadata": {},
   "source": [
    "# 1_ifelse"
   ]
  },
  {
   "cell_type": "markdown",
   "metadata": {},
   "source": [
    "基本格式：\n"
   ]
  },
  {
   "cell_type": "code",
   "execution_count": 1,
   "metadata": {},
   "outputs": [
    {
     "data": {
      "text/plain": [
       "\u001b[36mx\u001b[0m: Int = \u001b[32m0\u001b[0m"
      ]
     },
     "metadata": {},
     "output_type": "display_data"
    }
   ],
   "source": [
    "val x = 0"
   ]
  },
  {
   "cell_type": "code",
   "execution_count": 2,
   "metadata": {},
   "outputs": [
    {
     "data": {
      "text/plain": [
       "\u001b[36mres1\u001b[0m: Int = \u001b[32m-1\u001b[0m"
      ]
     },
     "metadata": {},
     "output_type": "display_data"
    }
   ],
   "source": [
    "//if else 语句结构\n",
    "if (x > 0) \n",
    "  1\n",
    "else\n",
    "  -1"
   ]
  },
  {
   "cell_type": "code",
   "execution_count": 3,
   "metadata": {},
   "outputs": [
    {
     "data": {
      "text/plain": [
       "\u001b[36ms\u001b[0m: Int = \u001b[32m-1\u001b[0m\n",
       "\u001b[36mres2_1\u001b[0m: Int = \u001b[32m-1\u001b[0m"
      ]
     },
     "metadata": {},
     "output_type": "display_data"
    }
   ],
   "source": [
    "//可以有返回值\n",
    "val s = if (x > 0) 1 else -1\n",
    "s"
   ]
  },
  {
   "cell_type": "code",
   "execution_count": 7,
   "metadata": {},
   "outputs": [
    {
     "data": {
      "text/plain": [
       "\u001b[36mres5\u001b[0m: Any = positive"
      ]
     },
     "metadata": {},
     "output_type": "display_data"
    }
   ],
   "source": [
    "//类型不一样时，返回公共超类型 Any\n",
    "if (x == 0 ) \"positive\" else -1"
   ]
  },
  {
   "cell_type": "code",
   "execution_count": 9,
   "metadata": {},
   "outputs": [
    {
     "data": {
      "text/plain": [
       "\u001b[36mres7_0\u001b[0m: AnyVal = ()\n",
       "\u001b[36mres7_1\u001b[0m: AnyVal = ()"
      ]
     },
     "metadata": {},
     "output_type": "display_data"
    }
   ],
   "source": [
    "//如果没有值，则返回 Unit ,类似于Java 的void\n",
    "if ( x > 0 ) 1\n",
    "if ( x > 0 ) 1 else ()\n"
   ]
  },
  {
   "cell_type": "code",
   "execution_count": 10,
   "metadata": {},
   "outputs": [
    {
     "data": {
      "text/plain": [
       "\u001b[36mn\u001b[0m: Int = \u001b[32m10\u001b[0m\n",
       "\u001b[36mr\u001b[0m: Int = \u001b[32m1\u001b[0m"
      ]
     },
     "metadata": {},
     "output_type": "display_data"
    }
   ],
   "source": [
    "//需不需要 分号\n",
    "var n = 10\n",
    "var r =1\n"
   ]
  },
  {
   "cell_type": "code",
   "execution_count": 12,
   "metadata": {},
   "outputs": [
    {
     "data": {
      "text/plain": [
       "\u001b[36ms1\u001b[0m: Double = \u001b[32m0.0\u001b[0m\n",
       "\u001b[36ms0\u001b[0m: Double = \u001b[32m0.0\u001b[0m\n",
       "\u001b[36mv\u001b[0m: Double = \u001b[32m0.0\u001b[0m\n",
       "\u001b[36mv0\u001b[0m: Double = \u001b[32m0.0\u001b[0m\n",
       "\u001b[36mt\u001b[0m: Double = \u001b[32m0.0\u001b[0m\n",
       "\u001b[36mt0\u001b[0m: Double = \u001b[32m0.0\u001b[0m\n",
       "\u001b[36ma\u001b[0m: Double = \u001b[32m0.0\u001b[0m\n",
       "\u001b[36ma0\u001b[0m: Double = \u001b[32m0.0\u001b[0m\n",
       "\u001b[36mres10_3\u001b[0m: Double = \u001b[32m0.0\u001b[0m"
      ]
     },
     "metadata": {},
     "output_type": "display_data"
    }
   ],
   "source": [
    "//如果多行表达式卸载一行需要分号，单个表达式可以不用大括号\n",
    "if( n > 0 ) {r = r * n; n -= 1}\n",
    "\n",
    "var s1, s0, v, v0, t, t0, a, a0 = 0.0\n",
    "s1 = s0 + (v - v0) * t + // The + tells the parser that this is not the end\n",
    "    0.5 * (a - a0) * t * t\n",
    "s1"
   ]
  },
  {
   "cell_type": "code",
   "execution_count": null,
   "metadata": {},
   "outputs": [],
   "source": [
    "// 不需要分号，{} 的值就是最后一个表达式的值"
   ]
  },
  {
   "cell_type": "code",
   "execution_count": null,
   "metadata": {},
   "outputs": [],
   "source": []
  },
  {
   "cell_type": "code",
   "execution_count": 22,
   "metadata": {},
   "outputs": [
    {
     "name": "stdout",
     "output_type": "stream",
     "text": [
      "20\r\n",
      "9\r\n"
     ]
    },
    {
     "data": {
      "text/plain": [
       "\u001b[36mn\u001b[0m: Int = \u001b[32m9\u001b[0m\n",
       "\u001b[36mr\u001b[0m: Int = \u001b[32m20\u001b[0m"
      ]
     },
     "metadata": {},
     "output_type": "display_data"
    }
   ],
   "source": [
    "//不懂\n",
    "var n = 10\n",
    "var r = 2\n",
    "if ( n > 0 ) {\n",
    "    r = r * n;\n",
    "    println (r);\n",
    "    n-=1;\n",
    "    println (n);\n",
    "}\n"
   ]
  },
  {
   "cell_type": "markdown",
   "metadata": {},
   "source": [
    "# 2_inout"
   ]
  },
  {
   "cell_type": "code",
   "execution_count": 28,
   "metadata": {},
   "outputs": [
    {
     "name": "stdout",
     "output_type": "stream",
     "text": [
      "Answer:42\n",
      "42\n",
      "Answer:42\n",
      "Hello, Fred! You are 42 years old.\n",
      "Hello, Fred! You are   42.33 years old\n"
     ]
    },
    {
     "data": {
      "text/plain": [
       "\u001b[36mname\u001b[0m: java.lang.String = \u001b[32m\"Fred\"\u001b[0m\n",
       "\u001b[36mage\u001b[0m: Double = \u001b[32m42.333333\u001b[0m"
      ]
     },
     "metadata": {},
     "output_type": "display_data"
    }
   ],
   "source": [
    "// 有无换行符\n",
    "print (\"Answer:\")\n",
    "println(42)\n",
    "println(42)\n",
    "println(\"Answer:\" + 42)\n",
    "printf(\"Hello, %s! You are %d years old.%n\", \"Fred\", 42)\n",
    "\n",
    "\n",
    "val name = \"Fred\"\n",
    "val age = 42.333333\n",
    "\n",
    "print(f\"Hello, $name! You are $age%7.2f years old%n\")\n",
    "/**\n",
    "\n",
    "**/"
   ]
  },
  {
   "cell_type": "code",
   "execution_count": 29,
   "metadata": {},
   "outputs": [
    {
     "ename": "",
     "evalue": "",
     "output_type": "error",
     "traceback": [
      "Compilation Failed",
      "\u001b[31mMain.scala:168: not found: value StdIn",
      "StdIn.readLine(\"Your name: \") ",
      "^\u001b[0m",
      "\u001b[31mMain.scala:174: not found: value StdIn",
      "StdIn.readInt() ",
      "^\u001b[0m"
     ]
    }
   ],
   "source": [
    "import scala.io._\n",
    "// 交互输入\n",
    "val name2 = StdIn.readLine(\"Your name: \")\n",
    "\n",
    "print(\"Your age: \")\n",
    "val age2 = StdIn.readInt()\n",
    "\n",
    "println(f\"Hello, $name2! Next year, you will be ${age2 + 1}.\", name, age + 1)"
   ]
  },
  {
   "cell_type": "markdown",
   "metadata": {},
   "source": [
    "# 3_while"
   ]
  },
  {
   "cell_type": "code",
   "execution_count": 33,
   "metadata": {},
   "outputs": [
    {
     "name": "stdout",
     "output_type": "stream",
     "text": [
      "5\n",
      "20\n",
      "60\n",
      "120\n",
      "120\n"
     ]
    },
    {
     "data": {
      "text/plain": [
       "\u001b[36mr\u001b[0m: Int = \u001b[32m120\u001b[0m\n",
       "\u001b[36mn\u001b[0m: Int = \u001b[32m0\u001b[0m"
      ]
     },
     "metadata": {},
     "output_type": "display_data"
    }
   ],
   "source": [
    "var r = 1 \n",
    "var n = 5\n",
    "//while 循环\n",
    "while ( n > 0 ) {\n",
    "    r = r * n \n",
    "    n -= 1\n",
    "    //println(n)\n",
    "    println(r)\n",
    "    \n",
    "}"
   ]
  },
  {
   "cell_type": "code",
   "execution_count": 35,
   "metadata": {},
   "outputs": [
    {
     "name": "stdout",
     "output_type": "stream",
     "text": [
      "10\n",
      "90\n",
      "720\n",
      "5040\n",
      "30240\n",
      "151200\n",
      "604800\n",
      "1814400\n",
      "3628800\n",
      "3628800\n"
     ]
    },
    {
     "data": {
      "text/plain": []
     },
     "metadata": {},
     "output_type": "display_data"
    }
   ],
   "source": [
    "r = 1\n",
    "n = 10\n",
    "//do while\n",
    "do {\n",
    "    r = r * n\n",
    "    n -= 1\n",
    "    println(r)\n",
    "}while(n>0)"
   ]
  },
  {
   "cell_type": "code",
   "execution_count": 38,
   "metadata": {},
   "outputs": [
    {
     "name": "stdout",
     "output_type": "stream",
     "text": [
      "10\n",
      "90\n",
      "720\n"
     ]
    },
    {
     "data": {
      "text/plain": [
       "\u001b[32mimport \u001b[36mscala.util.control.Breaks._\u001b[0m"
      ]
     },
     "metadata": {},
     "output_type": "display_data"
    }
   ],
   "source": [
    "import scala.util.control.Breaks._\n",
    "r = 1\n",
    "n = 10\n",
    "//break\n",
    "breakable {\n",
    "    while ( n > 0 ){\n",
    "        r = r * n\n",
    "        n -= 1\n",
    "        println(r)    \n",
    "        if(r ==720) break;       \n",
    "    }\n",
    "}"
   ]
  },
  {
   "cell_type": "markdown",
   "metadata": {},
   "source": [
    "# 4_for"
   ]
  },
  {
   "cell_type": "code",
   "execution_count": 39,
   "metadata": {},
   "outputs": [
    {
     "name": "stdout",
     "output_type": "stream",
     "text": [
      "11 12 13 21 22 23 31 32 33 "
     ]
    },
    {
     "data": {
      "text/plain": []
     },
     "metadata": {},
     "output_type": "display_data"
    }
   ],
   "source": [
    "// 多变量生成器\n",
    "for ( i <- 1 to 3; j <- 1 to 3) print ((10 * i + j) + \" \")"
   ]
  },
  {
   "cell_type": "code",
   "execution_count": 40,
   "metadata": {},
   "outputs": [
    {
     "name": "stdout",
     "output_type": "stream",
     "text": [
      "(1,2)(1,3)(2,1)(2,3)(3,1)(3,2)"
     ]
    },
    {
     "data": {
      "text/plain": []
     },
     "metadata": {},
     "output_type": "display_data"
    }
   ],
   "source": [
    "//守卫模式\n",
    "for (i <- 1 to 3;j <- 1 to 3 if i!=j) print (i,j)"
   ]
  },
  {
   "cell_type": "code",
   "execution_count": 41,
   "metadata": {},
   "outputs": [
    {
     "name": "stdout",
     "output_type": "stream",
     "text": [
      "(2,1)(3,1)"
     ]
    },
    {
     "data": {
      "text/plain": []
     },
     "metadata": {},
     "output_type": "display_data"
    }
   ],
   "source": [
    "//多个守卫模式\n",
    "for (i <- 1 to 3;j <-1 to 3 if i != j if j < 2 ) {\n",
    "    print (i,j)\n",
    "}\n"
   ]
  },
  {
   "cell_type": "code",
   "execution_count": 43,
   "metadata": {},
   "outputs": [
    {
     "name": "stdout",
     "output_type": "stream",
     "text": [
      "(1,3)(2,2)(2,3)(3,1)(3,2)(3,3)"
     ]
    },
    {
     "data": {
      "text/plain": []
     },
     "metadata": {},
     "output_type": "display_data"
    }
   ],
   "source": [
    "// 引入变量\n",
    "for ( i <- 1 to 3; from = 4 -i ; j <- from to 3 ) {\n",
    "    print (i,j)\n",
    "}\n"
   ]
  },
  {
   "cell_type": "code",
   "execution_count": 45,
   "metadata": {},
   "outputs": [
    {
     "name": "stdout",
     "output_type": "stream",
     "text": [
      "3 2 1 "
     ]
    },
    {
     "data": {
      "text/plain": []
     },
     "metadata": {},
     "output_type": "display_data"
    }
   ],
   "source": [
    "// 使用变量\n",
    "for (i <- 1 to 3; from = 4 - i) print(from + \" \")\n"
   ]
  },
  {
   "cell_type": "code",
   "execution_count": 46,
   "metadata": {},
   "outputs": [
    {
     "name": "stdout",
     "output_type": "stream",
     "text": [
      "13  22  23  31  32  33  "
     ]
    },
    {
     "data": {
      "text/plain": []
     },
     "metadata": {},
     "output_type": "display_data"
    }
   ],
   "source": [
    "//() 变成 {}  \n",
    "for {\n",
    "    i <- 1 to 3\n",
    "    from = 4 - i\n",
    "    j <- from to 3}\n",
    "  print ((10 * i + j) + \"  \")"
   ]
  },
  {
   "cell_type": "code",
   "execution_count": 47,
   "metadata": {},
   "outputs": [
    {
     "name": "stdout",
     "output_type": "stream",
     "text": [
      "Vector(1, 2, 0, 1, 2, 0, 1, 2, 0, 1)"
     ]
    },
    {
     "data": {
      "text/plain": [
       "\u001b[36mresult\u001b[0m: scala.collection.immutable.IndexedSeq[Int] = \u001b[33mVector\u001b[0m(\n",
       "  \u001b[32m1\u001b[0m,\n",
       "  \u001b[32m2\u001b[0m,\n",
       "  \u001b[32m0\u001b[0m,\n",
       "  \u001b[32m1\u001b[0m,\n",
       "  \u001b[32m2\u001b[0m,\n",
       "  \u001b[32m0\u001b[0m,\n",
       "  \u001b[32m1\u001b[0m,\n",
       "  \u001b[32m2\u001b[0m,\n",
       "  \u001b[32m0\u001b[0m,\n",
       "  \u001b[32m1\u001b[0m\n",
       ")"
      ]
     },
     "metadata": {},
     "output_type": "display_data"
    }
   ],
   "source": [
    "//yield 将输出到集合，这种类型叫 for 推导式\n",
    "val result = for (i <- 1 to 10) yield i % 3\n",
    "print (result)"
   ]
  },
  {
   "cell_type": "code",
   "execution_count": 49,
   "metadata": {},
   "outputs": [
    {
     "data": {
      "text/plain": [
       "\u001b[36mres44_0\u001b[0m: String = \u001b[32m\"HIeflmlmop\"\u001b[0m\n",
       "\u001b[36mres44_1\u001b[0m: scala.collection.immutable.IndexedSeq[Char] = \u001b[33mVector\u001b[0m(\n",
       "  \u001b[32m'H'\u001b[0m,\n",
       "  \u001b[32m'e'\u001b[0m,\n",
       "  \u001b[32m'l'\u001b[0m,\n",
       "  \u001b[32m'l'\u001b[0m,\n",
       "  \u001b[32m'o'\u001b[0m,\n",
       "  \u001b[32m'I'\u001b[0m,\n",
       "  \u001b[32m'f'\u001b[0m,\n",
       "  \u001b[32m'm'\u001b[0m,\n",
       "  \u001b[32m'm'\u001b[0m,\n",
       "  \u001b[32m'p'\u001b[0m\n",
       ")"
      ]
     },
     "metadata": {},
     "output_type": "display_data"
    }
   ],
   "source": [
    "// for 推导式返回的类型和第一个生成器的类型是兼容的\n",
    "for (c <- \"Hello\"; i <- 0 to 1) yield (c + i).toChar\n",
    "\n",
    "for (i <- 0 to 1; c <- \"Hello\") yield (c + i).toChar\n",
    "\n"
   ]
  }
 ],
 "metadata": {
  "kernelspec": {
   "display_name": "Scala 2.10",
   "language": "scala210",
   "name": "scala210"
  },
  "language_info": {
   "codemirror_mode": "text/x-scala",
   "file_extension": "scala",
   "mimetype": "text/x-scala",
   "name": "scala210",
   "pygments_lexer": "scala",
   "version": "2.10.5"
  }
 },
 "nbformat": 4,
 "nbformat_minor": 2
}
